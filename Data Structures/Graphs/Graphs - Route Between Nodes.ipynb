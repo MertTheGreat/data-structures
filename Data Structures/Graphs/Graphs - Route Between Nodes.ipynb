{
 "cells": [
  {
   "cell_type": "markdown",
   "metadata": {},
   "source": [
    "Given a directed graph, design an algorithm to find out whether there is a route between two nodes.\n",
    "\n",
    "Hints:\n",
    "\n",
    "> #127 Two well-known algorithms can do this. What are the tradeoffs between them?"
   ]
  },
  {
   "cell_type": "code",
   "execution_count": 2,
   "metadata": {},
   "outputs": [],
   "source": [
    "# This problem has two parts one is to make a graph data structure other to find if there is a route between two nodes"
   ]
  },
  {
   "cell_type": "code",
   "execution_count": 12,
   "metadata": {},
   "outputs": [],
   "source": [
    "class graph(object):\n",
    "    def __init__(self):\n",
    "        self.adjacent_list = {}\n",
    "    \n",
    "    def add_vertex(self,node):\n",
    "        self.adjacent_list[node] = []\n",
    "        return self.adjacent_list\n",
    "\n",
    "    def add_edge(self, node1, node2):\n",
    "        # This is a directed (one way) graph\n",
    "        if self.adjacent_list[node1] is None:\n",
    "            self.add_vertex(node1)\n",
    "        self.adjacent_list[node1].append(node2)\n",
    "        return self.adjacent_list\n",
    "    \n"
   ]
  },
  {
   "cell_type": "raw",
   "metadata": {},
   "source": [
    "Creating this graph\n",
    "    A----->B----->C\n",
    "\t \\     |\n",
    "\t  \\    |\n",
    "\t   \\   |\n",
    "\t    \\  v\n",
    "\t     ->D----->E"
   ]
  },
  {
   "cell_type": "code",
   "execution_count": 13,
   "metadata": {},
   "outputs": [
    {
     "name": "stdout",
     "output_type": "stream",
     "text": [
      "{'adjacent_list': {'A': ['B', 'D'], 'B': ['C', 'D'], 'C': [], 'D': ['E'], 'E': []}}\n"
     ]
    }
   ],
   "source": [
    "myGraph = graph()\n",
    "myGraph.add_vertex('A')\n",
    "myGraph.add_vertex('B')\n",
    "myGraph.add_vertex('C')\n",
    "myGraph.add_vertex('D')\n",
    "myGraph.add_vertex('E')\n",
    "\n",
    "myGraph.add_edge('A', 'B')\n",
    "myGraph.add_edge('A', 'D')\n",
    "myGraph.add_edge('B', 'C')\n",
    "myGraph.add_edge('B', 'D')\n",
    "myGraph.add_edge('D', 'E')\n",
    "print(myGraph.__dict__)"
   ]
  },
  {
   "cell_type": "code",
   "execution_count": 5,
   "metadata": {},
   "outputs": [],
   "source": [
    "# Finding the routh"
   ]
  },
  {
   "cell_type": "code",
   "execution_count": 77,
   "metadata": {},
   "outputs": [],
   "source": [
    "def find_routh_dfs(graph, start, goal, visited = None):\n",
    "    if visited is None:\n",
    "        visited = set()\n",
    "    for node in graph[start]:\n",
    "        if node not in visited:\n",
    "            if node == goal: return True\n",
    "            visited.add(node)\n",
    "            if find_routh_dfs(graph, node, goal, visited):\n",
    "                return True\n",
    "    return False"
   ]
  },
  {
   "cell_type": "code",
   "execution_count": 81,
   "metadata": {},
   "outputs": [
    {
     "data": {
      "text/plain": [
       "False"
      ]
     },
     "execution_count": 81,
     "metadata": {},
     "output_type": "execute_result"
    }
   ],
   "source": [
    "find_routh_dfs(myGraph.adjacent_list, 'A', 'K')"
   ]
  },
  {
   "cell_type": "code",
   "execution_count": 7,
   "metadata": {},
   "outputs": [],
   "source": [
    "def find_path(graph, start, end, path=[]):\n",
    "    path = path + [start]\n",
    "    if start == end:\n",
    "        return path\n",
    "    if start not in graph:\n",
    "        return None\n",
    "    for node in graph[start]:\n",
    "        if node not in path:\n",
    "            newpath = find_path(graph, node, end, path)\n",
    "            if newpath: return newpath\n",
    "    return None"
   ]
  },
  {
   "cell_type": "markdown",
   "metadata": {},
   "source": [
    "_Ref: https://www.python.org/doc/essays/graphs/_"
   ]
  },
  {
   "cell_type": "code",
   "execution_count": 71,
   "metadata": {},
   "outputs": [
    {
     "data": {
      "text/plain": [
       "['A', 'B']"
      ]
     },
     "execution_count": 71,
     "metadata": {},
     "output_type": "execute_result"
    }
   ],
   "source": [
    "find_path(myGraph.adjacent_list, 'A', 'B')"
   ]
  },
  {
   "cell_type": "code",
   "execution_count": null,
   "metadata": {},
   "outputs": [],
   "source": []
  }
 ],
 "metadata": {
  "kernelspec": {
   "display_name": "Python 3",
   "language": "python",
   "name": "python3"
  },
  "language_info": {
   "codemirror_mode": {
    "name": "ipython",
    "version": 3
   },
   "file_extension": ".py",
   "mimetype": "text/x-python",
   "name": "python",
   "nbconvert_exporter": "python",
   "pygments_lexer": "ipython3",
   "version": "3.7.3"
  }
 },
 "nbformat": 4,
 "nbformat_minor": 4
}
