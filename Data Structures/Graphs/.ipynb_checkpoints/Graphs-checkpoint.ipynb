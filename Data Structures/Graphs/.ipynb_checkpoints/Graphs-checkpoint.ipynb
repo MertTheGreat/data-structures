{
 "cells": [
  {
   "cell_type": "markdown",
   "metadata": {},
   "source": [
    "![graph](img/graph1.png)\n",
    "\n",
    "Creating data structrue of above grap\n",
    "\n",
    "> Edge List\n",
    "\n",
    "> Adjacency List\n",
    "\n",
    "> Adjacency Matrix"
   ]
  },
  {
   "cell_type": "markdown",
   "metadata": {},
   "source": [
    "## Edge List"
   ]
  },
  {
   "cell_type": "code",
   "execution_count": 4,
   "metadata": {},
   "outputs": [],
   "source": [
    "edge_graph = [[0,2],[2,3],[2,1],[3,1]]"
   ]
  },
  {
   "cell_type": "markdown",
   "metadata": {},
   "source": [
    "## Ajacency List"
   ]
  },
  {
   "cell_type": "code",
   "execution_count": 5,
   "metadata": {},
   "outputs": [],
   "source": [
    "# indexes are the values\n",
    "adjacency_graph = [[2],[2,3],[0,1,3],[1,2]]\n",
    "# another way to do it with hash maps\n",
    "adjacency_graph = {\n",
    "    0: [2],\n",
    "    1: [2,3],\n",
    "    2: [0,1,3],\n",
    "    3: [1,2]\n",
    "}"
   ]
  },
  {
   "cell_type": "markdown",
   "metadata": {},
   "source": [
    "## Adjacency Matrix"
   ]
  },
  {
   "cell_type": "code",
   "execution_count": 6,
   "metadata": {},
   "outputs": [],
   "source": [
    "adjacency_matrix_graph = [\n",
    "    [0,0,1,0],\n",
    "    [0,0,1,1],\n",
    "    [1,1,0,1],\n",
    "    [0,1,1,0]\n",
    "]\n",
    "# with hash map\n",
    "adjacency_matrix_graph_dic = {\n",
    "    0:[0,0,1,0],\n",
    "    1:[0,0,1,1],\n",
    "    2:[1,1,0,1],\n",
    "    3:[0,1,1,0]\n",
    "}"
   ]
  },
  {
   "cell_type": "markdown",
   "metadata": {},
   "source": [
    "## Graph Implementation"
   ]
  },
  {
   "cell_type": "code",
   "execution_count": 7,
   "metadata": {},
   "outputs": [],
   "source": [
    "class Graph(object):\n",
    "    def __init__(self):\n",
    "        self.number_of_nodes = 0\n",
    "        self.adjacent_list = {}\n",
    "\n",
    "    def add_vertex(self, node):\n",
    "        self.adjacent_list[node] = []\n",
    "        self.number_of_nodes += 1\n",
    "\n",
    "    def add_edge(self, node1, node2):\n",
    "        # undirected graph\n",
    "        if self.adjacent_list[node1] is None:\n",
    "            self.add_vertex(node1)\n",
    "        self.adjacent_list[node1].append(node2)\n",
    "        self.adjacent_list[node2].append(node1)\n",
    "\n",
    "    def search(self, node):\n",
    "        for k in self.adjacent_list.keys():\n",
    "            if k == node:\n",
    "                return self.adjacent_list[node]"
   ]
  },
  {
   "cell_type": "code",
   "execution_count": 11,
   "metadata": {},
   "outputs": [
    {
     "name": "stdout",
     "output_type": "stream",
     "text": [
      "{'number_of_nodes': 0, 'adjacent_list': {'0': ['1', '2'], '1': ['3', '2', '0'], '2': ['4', '1', '0'], '3': ['1', '4'], '4': ['3', '2', '5'], '5': ['4', '6'], '6': ['5']}}\n",
      "Search:\n"
     ]
    },
    {
     "data": {
      "text/plain": [
       "['1', '4']"
      ]
     },
     "execution_count": 11,
     "metadata": {},
     "output_type": "execute_result"
    }
   ],
   "source": [
    "myGraph = Graph()\n",
    "myGraph.add_vertex('0')\n",
    "myGraph.add_vertex('1')\n",
    "myGraph.add_vertex('2')\n",
    "myGraph.add_vertex('3')\n",
    "myGraph.add_vertex('4')\n",
    "myGraph.add_vertex('5')\n",
    "myGraph.add_vertex('6')\n",
    "myGraph.add_edge('3', '1')\n",
    "myGraph.add_edge('3', '4')\n",
    "myGraph.add_edge('4', '2')\n",
    "myGraph.add_edge('4', '5')\n",
    "myGraph.add_edge('1', '2')\n",
    "myGraph.add_edge('1', '0')\n",
    "myGraph.add_edge('0', '2')\n",
    "myGraph.add_edge('6', '5')\n",
    "print(myGraph.__dict__)\n",
    "\n",
    "print('Search:')\n",
    "\n",
    "myGraph.search('3')"
   ]
  },
  {
   "cell_type": "code",
   "execution_count": null,
   "metadata": {},
   "outputs": [],
   "source": []
  }
 ],
 "metadata": {
  "kernelspec": {
   "display_name": "Python 3",
   "language": "python",
   "name": "python3"
  },
  "language_info": {
   "codemirror_mode": {
    "name": "ipython",
    "version": 3
   },
   "file_extension": ".py",
   "mimetype": "text/x-python",
   "name": "python",
   "nbconvert_exporter": "python",
   "pygments_lexer": "ipython3",
   "version": "3.7.3"
  }
 },
 "nbformat": 4,
 "nbformat_minor": 4
}
