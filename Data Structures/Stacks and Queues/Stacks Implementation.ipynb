{
 "cells": [
  {
   "cell_type": "markdown",
   "metadata": {},
   "source": [
    "# Stack Implementation with Linked List"
   ]
  },
  {
   "cell_type": "code",
   "execution_count": 1,
   "metadata": {},
   "outputs": [],
   "source": [
    "class Node(object):\n",
    "    def __init__(self, data=None, ):\n",
    "        self.value = data\n",
    "        self.next = None\n",
    "\n",
    "\n",
    "class StackLinked(object):\n",
    "    def __init__(self, value):\n",
    "        self.top = Node(value)\n",
    "        self.bottom = self.top\n",
    "        self.length = 1\n",
    "\n",
    "    def push(self, value):\n",
    "        temp = self.top\n",
    "        self.top = Node(value)\n",
    "        self.top.next = temp\n",
    "        self.length += 1\n",
    "        return self\n",
    "\n",
    "    def peek(self):\n",
    "        return self.top.value\n",
    "\n",
    "    def pop(self):\n",
    "        self.top = self.top.next\n",
    "        self.length -= 1\n",
    "        return self\n",
    "\n",
    "    def __str__(self):\n",
    "        out = ''\n",
    "        if self.length < 1:\n",
    "            out = 'This list has no values.'\n",
    "        else:\n",
    "            i = 0\n",
    "            top_copy = self.top\n",
    "            while top_copy:\n",
    "                if i == 0:\n",
    "                    out = 'top: ' + str(top_copy.value)\n",
    "                elif i == self.length - 1:\n",
    "                    out += '=> bottom: ' + str(top_copy.value)\n",
    "                else:\n",
    "                    out += '=> ' + str(top_copy.value)\n",
    "                top_copy = top_copy.next\n",
    "                i += 1\n",
    "        return out"
   ]
  },
  {
   "cell_type": "code",
   "execution_count": 3,
   "metadata": {},
   "outputs": [
    {
     "name": "stdout",
     "output_type": "stream",
     "text": [
      "top: 40=> 30=> 20=> bottom: 10\n"
     ]
    }
   ],
   "source": [
    "a = StackLinked(10)\n",
    "a.push(20)\n",
    "a.push(30)\n",
    "a.push(40)\n",
    "print(a)"
   ]
  },
  {
   "cell_type": "code",
   "execution_count": 4,
   "metadata": {},
   "outputs": [
    {
     "data": {
      "text/plain": [
       "40"
      ]
     },
     "execution_count": 4,
     "metadata": {},
     "output_type": "execute_result"
    }
   ],
   "source": [
    "a.peek()"
   ]
  },
  {
   "cell_type": "code",
   "execution_count": 5,
   "metadata": {},
   "outputs": [
    {
     "name": "stdout",
     "output_type": "stream",
     "text": [
      "top: 50=> 40=> 30=> 20=> bottom: 10\n"
     ]
    }
   ],
   "source": [
    "a.push(50)\n",
    "print(a)"
   ]
  },
  {
   "cell_type": "code",
   "execution_count": 6,
   "metadata": {},
   "outputs": [
    {
     "name": "stdout",
     "output_type": "stream",
     "text": [
      "top: 40=> 30=> 20=> bottom: 10\n"
     ]
    }
   ],
   "source": [
    "a.pop()\n",
    "print(a)"
   ]
  },
  {
   "cell_type": "code",
   "execution_count": null,
   "metadata": {},
   "outputs": [],
   "source": []
  }
 ],
 "metadata": {
  "kernelspec": {
   "display_name": "Python 3",
   "language": "python",
   "name": "python3"
  },
  "language_info": {
   "codemirror_mode": {
    "name": "ipython",
    "version": 3
   },
   "file_extension": ".py",
   "mimetype": "text/x-python",
   "name": "python",
   "nbconvert_exporter": "python",
   "pygments_lexer": "ipython3",
   "version": "3.7.3"
  }
 },
 "nbformat": 4,
 "nbformat_minor": 4
}
