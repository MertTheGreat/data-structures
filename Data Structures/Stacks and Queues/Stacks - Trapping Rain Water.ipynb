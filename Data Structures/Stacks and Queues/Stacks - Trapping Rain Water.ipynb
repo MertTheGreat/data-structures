{
 "cells": [
  {
   "cell_type": "markdown",
   "metadata": {},
   "source": [
    "[Leetcode Problem](https://leetcode.com/problems/trapping-rain-water/)"
   ]
  },
  {
   "cell_type": "markdown",
   "metadata": {},
   "source": [
    "Given n non-negative integers representing an elevation map where the width of each bar is 1, compute how much water it is able to trap after raining.\n",
    "\n",
    "![demo](https://assets.leetcode.com/uploads/2018/10/22/rainwatertrap.png)\n",
    "\n",
    "The above elevation map is represented by array [0,1,0,2,1,0,1,3,2,1,2,1]. In this case, 6 units of rain water (blue section) are being trapped. Thanks Marcos for contributing this image!\n",
    "\n",
    "> Input: [0,1,0,2,1,0,1,3,2,1,2,1]\n",
    "\n",
    "> Output: 6"
   ]
  },
  {
   "cell_type": "code",
   "execution_count": 1,
   "metadata": {},
   "outputs": [],
   "source": [
    "def trap(bars):\n",
    "    if not bars or len(bars) < 3:\n",
    "        return 0\n",
    "    volume = 0\n",
    "    left, right = 0, len(bars) - 1\n",
    "    l_max, r_max = bars[left], bars[right]\n",
    "    while left < right:\n",
    "        #print('left: ', left, 'right: ', right)\n",
    "        #print('l_max: ', l_max , 'r_max', r_max)\n",
    "        l_max, r_max = max(bars[left], l_max), max(bars[right], r_max)\n",
    "        #print('l_max: ', l_max, 'r_max', r_max)\n",
    "        if l_max <= r_max:\n",
    "            volume += l_max - bars[left]\n",
    "            left += 1\n",
    "        else:\n",
    "            volume += r_max - bars[right]\n",
    "            right -= 1\n",
    "        #print('voluem: ', volume)\n",
    "        #print('left: ', left, 'right: ', right)\n",
    "        #print('------------------------')\n",
    "    return volume"
   ]
  },
  {
   "cell_type": "code",
   "execution_count": 2,
   "metadata": {},
   "outputs": [
    {
     "data": {
      "text/plain": [
       "6"
      ]
     },
     "execution_count": 2,
     "metadata": {},
     "output_type": "execute_result"
    }
   ],
   "source": [
    "trap([0,1,0,2,1,0,1,3,2,1,2,1])"
   ]
  },
  {
   "cell_type": "code",
   "execution_count": null,
   "metadata": {},
   "outputs": [],
   "source": []
  }
 ],
 "metadata": {
  "kernelspec": {
   "display_name": "Python 3",
   "language": "python",
   "name": "python3"
  },
  "language_info": {
   "codemirror_mode": {
    "name": "ipython",
    "version": 3
   },
   "file_extension": ".py",
   "mimetype": "text/x-python",
   "name": "python",
   "nbconvert_exporter": "python",
   "pygments_lexer": "ipython3",
   "version": "3.7.3"
  }
 },
 "nbformat": 4,
 "nbformat_minor": 4
}
