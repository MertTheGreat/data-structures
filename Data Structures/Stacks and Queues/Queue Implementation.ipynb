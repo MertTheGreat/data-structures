{
 "cells": [
  {
   "cell_type": "markdown",
   "metadata": {},
   "source": [
    "# Queue Implementation\n"
   ]
  },
  {
   "cell_type": "code",
   "execution_count": 1,
   "metadata": {},
   "outputs": [],
   "source": [
    "class Node(object):\n",
    "    def __init__(self, value):\n",
    "        self.value = value\n",
    "        self.next = None\n",
    "\n",
    "\n",
    "class Queue(object):\n",
    "    def __init__(self, value):\n",
    "        self.first = Node(value)\n",
    "        self.last = self.first\n",
    "        self.length = 1\n",
    "\n",
    "    def enqueue(self, value):\n",
    "        self.last.next = Node(value)\n",
    "        self.last = self.last.next\n",
    "        self.length += 1\n",
    "\n",
    "    def peek(self):\n",
    "        return self.first.value\n",
    "\n",
    "    def dequeue(self):\n",
    "        self.first = self.first.next\n",
    "        self.length -= 1\n",
    "\n",
    "    def __str__(self):\n",
    "        out = ''\n",
    "        if self.length < 1:\n",
    "            out = 'This list has no values.'\n",
    "        else:\n",
    "            i = 0\n",
    "            first_copy = self.first\n",
    "            while first_copy is not None:\n",
    "                if i == 0:\n",
    "                    out = 'first: ' + str(first_copy.value)\n",
    "                elif i == self.length - 1:\n",
    "                    out += '=> last: ' + str(first_copy.value)\n",
    "                else:\n",
    "                    out += '=> ' + str(first_copy.value)\n",
    "                first_copy = first_copy.next\n",
    "                i += 1\n",
    "        return out\n",
    "    "
   ]
  },
  {
   "cell_type": "code",
   "execution_count": 2,
   "metadata": {},
   "outputs": [
    {
     "name": "stdout",
     "output_type": "stream",
     "text": [
      "first: 10=> 20=> 30=> last: 40\n"
     ]
    }
   ],
   "source": [
    "a = Queue(10)\n",
    "a.enqueue(20)\n",
    "a.enqueue(30)\n",
    "a.enqueue(40)\n",
    "print(a)"
   ]
  },
  {
   "cell_type": "code",
   "execution_count": 3,
   "metadata": {},
   "outputs": [
    {
     "name": "stdout",
     "output_type": "stream",
     "text": [
      "10\n"
     ]
    }
   ],
   "source": [
    "print(a.peek())"
   ]
  },
  {
   "cell_type": "code",
   "execution_count": 4,
   "metadata": {},
   "outputs": [
    {
     "name": "stdout",
     "output_type": "stream",
     "text": [
      "first: 20=> 30=> last: 40\n"
     ]
    }
   ],
   "source": [
    "a.dequeue()\n",
    "print(a)"
   ]
  },
  {
   "cell_type": "code",
   "execution_count": null,
   "metadata": {},
   "outputs": [],
   "source": []
  }
 ],
 "metadata": {
  "kernelspec": {
   "display_name": "Python 3",
   "language": "python",
   "name": "python3"
  },
  "language_info": {
   "codemirror_mode": {
    "name": "ipython",
    "version": 3
   },
   "file_extension": ".py",
   "mimetype": "text/x-python",
   "name": "python",
   "nbconvert_exporter": "python",
   "pygments_lexer": "ipython3",
   "version": "3.7.3"
  }
 },
 "nbformat": 4,
 "nbformat_minor": 4
}
