{
 "cells": [
  {
   "cell_type": "code",
   "execution_count": 20,
   "metadata": {},
   "outputs": [],
   "source": [
    "class Node(object):\n",
    "    def __init__(self, value=None):\n",
    "        self.value = value\n",
    "        self.next = None\n",
    "        \n",
    "\n",
    "class LinkedList(object):\n",
    "    def __init__(self, value=None):\n",
    "        self.head = Node(value)\n",
    "        self.tail = self.head\n",
    "        self.index = 0\n",
    "        \n",
    "    def append(self, value):\n",
    "        self.tail.next = Node(value)\n",
    "        self.tail = self.tail.next\n",
    "        self.index +=1\n",
    "        return self\n",
    "    \n",
    "    def delete(self, index):\n",
    "        if index == 0:\n",
    "            self.head = self.head.next\n",
    "            self.index -= 1\n",
    "        elif index == self.index:\n",
    "            head_copy = self.head\n",
    "            while head_copy.next.next is not None:\n",
    "                head_copy = head_copy.next\n",
    "            head_copy.next = None\n",
    "        else:\n",
    "            count = 0\n",
    "            head_copy = self.head\n",
    "            while count <= index:\n",
    "                head_copy = head_copy.next\n",
    "                count += 1\n",
    "            head_copy = head_copy.next.next\n",
    "            self.index-=1\n",
    "    def __str__(self):\n",
    "        out = ''\n",
    "        if self.index is None:\n",
    "            out = 'This list has no values.'\n",
    "        else:\n",
    "            i = 0\n",
    "            head_copy = self.head\n",
    "            while head_copy is not None:\n",
    "                if i == 0:\n",
    "                    out = 'head: ' + str(head_copy.value)\n",
    "                elif i == self.index:\n",
    "                    out += '=> tail: ' + str(head_copy.value)\n",
    "                else:\n",
    "                    out += '=> ' + str(head_copy.value)\n",
    "                head_copy = head_copy.next\n",
    "                i += 1\n",
    "        return out\n",
    "        "
   ]
  },
  {
   "cell_type": "code",
   "execution_count": 21,
   "metadata": {},
   "outputs": [
    {
     "name": "stdout",
     "output_type": "stream",
     "text": [
      "head: 5=> 9=> 34=> 88=> 998=> tail: 60\n"
     ]
    }
   ],
   "source": [
    "linkin = LinkedList(5)\n",
    "linkin.append(9)\n",
    "linkin.append(34)\n",
    "linkin.append(88)\n",
    "linkin.append(998)\n",
    "linkin.append(60)\n",
    "print(linkin)"
   ]
  },
  {
   "cell_type": "code",
   "execution_count": 23,
   "metadata": {},
   "outputs": [
    {
     "name": "stdout",
     "output_type": "stream",
     "text": [
      "head: 5=> 9=> 34=> 88=> tail: 998=> 60\n"
     ]
    }
   ],
   "source": [
    "linkin.delete(2)\n",
    "print(linkin)"
   ]
  },
  {
   "cell_type": "code",
   "execution_count": 29,
   "metadata": {},
   "outputs": [],
   "source": [
    "def is_unique(string):\n",
    "    chr_list=[]\n",
    "    for c in string:\n",
    "        if chr_list[ord(c)] is not None:\n",
    "            return False\n",
    "        chr_list[ord(c)] = c\n",
    "    return True"
   ]
  },
  {
   "cell_type": "code",
   "execution_count": null,
   "metadata": {},
   "outputs": [],
   "source": [
    "is"
   ]
  }
 ],
 "metadata": {
  "kernelspec": {
   "display_name": "Python 3",
   "language": "python",
   "name": "python3"
  },
  "language_info": {
   "codemirror_mode": {
    "name": "ipython",
    "version": 3
   },
   "file_extension": ".py",
   "mimetype": "text/x-python",
   "name": "python",
   "nbconvert_exporter": "python",
   "pygments_lexer": "ipython3",
   "version": "3.7.3"
  }
 },
 "nbformat": 4,
 "nbformat_minor": 4
}
