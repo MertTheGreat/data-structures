{
 "cells": [
  {
   "cell_type": "code",
   "execution_count": 7,
   "metadata": {},
   "outputs": [],
   "source": [
    "class Node(object):\n",
    "    def __init__(self, data=None, ):\n",
    "        self.value = data\n",
    "        self.next = None\n",
    "\n",
    "\n",
    "class LinkedListSingly(object):\n",
    "    def __init__(self, data=None):\n",
    "        self.head = Node(data)\n",
    "        self.tail = self.head\n",
    "        self.length = 1\n",
    "\n",
    "    def append(self, data):\n",
    "        self.tail.next = Node(data)\n",
    "        self.tail = self.tail.next\n",
    "        self.length += 1\n",
    "        return self\n",
    "\n",
    "    def prenend(self, data):\n",
    "        head_copy = self.head\n",
    "        self.head = Node(data)\n",
    "        self.head.next = head_copy\n",
    "        self.length += 1\n",
    "        return self\n",
    "\n",
    "    def search(self, data):\n",
    "        head_copy = self.head\n",
    "        count = 0\n",
    "        while head_copy is not None:\n",
    "            if head_copy.value == data:\n",
    "                return count\n",
    "            head_copy = head_copy.next\n",
    "            count += 1\n",
    "        return str(data) + ' is not in the list.'\n",
    "\n",
    "    def insert(self, data, index):\n",
    "        if index == 0:\n",
    "            self.prenend(data)\n",
    "            return self\n",
    "        elif index + 1 > self.length:\n",
    "            self.append(data)\n",
    "            return self\n",
    "        elif index + 1 == self.length:\n",
    "            head_copy = self.head\n",
    "            while head_copy.next.next is not None:\n",
    "                head_copy = head_copy.next\n",
    "            next_node = head_copy.next\n",
    "            head_copy.next = Node(data)\n",
    "            head_copy.next.next = next_node\n",
    "            self.length += 1\n",
    "            return self\n",
    "        else:\n",
    "            count = 0\n",
    "            head_copy = self.head\n",
    "            while count < index - 1:\n",
    "                head_copy = head_copy.next\n",
    "                count += 1\n",
    "            next_node = head_copy.next\n",
    "            head_copy.next = Node(data)\n",
    "            head_copy.next.next = next_node\n",
    "            self.length += 1\n",
    "            return self\n",
    "\n",
    "    def delete(self, index):\n",
    "        if index == 0:\n",
    "            self.head = self.head.next\n",
    "            self.length -= 1\n",
    "        elif index + 1 == self.length:\n",
    "            head_copy = self.head\n",
    "            while head_copy.next.next is not None:\n",
    "                head_copy = head_copy.next\n",
    "            head_copy.next = None\n",
    "            self.length -= 1\n",
    "        else:\n",
    "            head_copy = self.head\n",
    "            count = 0\n",
    "            while count != index - 1:\n",
    "                head_copy = head_copy.next\n",
    "                count += 1\n",
    "            head_copy.next = head_copy.next.next\n",
    "            self.length -= 1\n",
    "\n",
    "    def __str__(self):\n",
    "        out = ''\n",
    "        if self.length < 1:\n",
    "            out = 'This list has no values.'\n",
    "        else:\n",
    "            i = 0\n",
    "            head_copy = self.head\n",
    "            while head_copy is not None:\n",
    "                if i == 0:\n",
    "                    out = 'head: ' + str(head_copy.value)\n",
    "                elif i == self.length - 1:\n",
    "                    out += '=> tail: ' + str(head_copy.value)\n",
    "                else:\n",
    "                    out += '=> ' + str(head_copy.value)\n",
    "                head_copy = head_copy.next\n",
    "                i += 1\n",
    "        return out"
   ]
  },
  {
   "cell_type": "code",
   "execution_count": 23,
   "metadata": {},
   "outputs": [
    {
     "name": "stdout",
     "output_type": "stream",
     "text": [
      "head: 10=> 20=> 30=> 40=> 50=> tail: 60\n"
     ]
    }
   ],
   "source": [
    "linkin = LinkedListSingly(10)\n",
    "linkin.append(20)\n",
    "linkin.append(30)\n",
    "linkin.append(40)\n",
    "linkin.append(50)\n",
    "linkin.append(60)\n",
    "print(linkin)"
   ]
  },
  {
   "cell_type": "code",
   "execution_count": 24,
   "metadata": {},
   "outputs": [
    {
     "name": "stdout",
     "output_type": "stream",
     "text": [
      "head: 5=> 10=> 20=> 30=> 40=> 50=> tail: 60\n"
     ]
    }
   ],
   "source": [
    "linkin.prenend(5)\n",
    "print(linkin)"
   ]
  },
  {
   "cell_type": "code",
   "execution_count": 25,
   "metadata": {},
   "outputs": [
    {
     "data": {
      "text/plain": [
       "3"
      ]
     },
     "execution_count": 25,
     "metadata": {},
     "output_type": "execute_result"
    }
   ],
   "source": [
    "linkin.search(30)"
   ]
  },
  {
   "cell_type": "code",
   "execution_count": 26,
   "metadata": {},
   "outputs": [
    {
     "name": "stdout",
     "output_type": "stream",
     "text": [
      "head: 5=> 10=> 20=> 40=> 50=> tail: 60\n"
     ]
    }
   ],
   "source": [
    "linkin.delete(3)\n",
    "print(linkin)"
   ]
  },
  {
   "cell_type": "code",
   "execution_count": 27,
   "metadata": {},
   "outputs": [
    {
     "data": {
      "text/plain": [
       "'30 is not in the list.'"
      ]
     },
     "execution_count": 27,
     "metadata": {},
     "output_type": "execute_result"
    }
   ],
   "source": [
    "linkin.search(30)"
   ]
  },
  {
   "cell_type": "code",
   "execution_count": null,
   "metadata": {},
   "outputs": [],
   "source": []
  }
 ],
 "metadata": {
  "kernelspec": {
   "display_name": "Python 3",
   "language": "python",
   "name": "python3"
  },
  "language_info": {
   "codemirror_mode": {
    "name": "ipython",
    "version": 3
   },
   "file_extension": ".py",
   "mimetype": "text/x-python",
   "name": "python",
   "nbconvert_exporter": "python",
   "pygments_lexer": "ipython3",
   "version": "3.7.3"
  }
 },
 "nbformat": 4,
 "nbformat_minor": 4
}
