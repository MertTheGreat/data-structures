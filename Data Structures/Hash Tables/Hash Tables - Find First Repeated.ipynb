{
 "cells": [
  {
   "cell_type": "markdown",
   "metadata": {},
   "source": [
    "Google Question\n",
    "Find the first repeated item in a array.\n",
    "\n",
    "Given an array = [2,5,1,2,3,5,1,2,4]:\n",
    "\n",
    "It should return 2\n",
    "\n",
    "Given an array = [2,1,1,2,3,5,1,2,4]:\n",
    "\n",
    "It should return 1\n",
    "\n",
    "Given an array = [2,3,4,5]:\n",
    "\n",
    "It should return undefined"
   ]
  },
  {
   "cell_type": "code",
   "execution_count": 4,
   "metadata": {},
   "outputs": [],
   "source": [
    "array1 = [2,5,1,2,3,5,1,2,4]\n",
    "array2 = [2,1,1,2,3,5,1,2,4]\n",
    "array3 = [2,3,4,5]\n"
   ]
  },
  {
   "cell_type": "code",
   "execution_count": 5,
   "metadata": {},
   "outputs": [],
   "source": [
    "def repeatedElement(array):\n",
    "    dic = []\n",
    "    for item in array:\n",
    "        if item in dic:\n",
    "            return item\n",
    "        dic.append(item)\n",
    "    return 'undefined'"
   ]
  },
  {
   "cell_type": "code",
   "execution_count": 6,
   "metadata": {},
   "outputs": [
    {
     "data": {
      "text/plain": [
       "2"
      ]
     },
     "execution_count": 6,
     "metadata": {},
     "output_type": "execute_result"
    }
   ],
   "source": [
    "repeatedElement(array1)"
   ]
  },
  {
   "cell_type": "code",
   "execution_count": 7,
   "metadata": {},
   "outputs": [
    {
     "data": {
      "text/plain": [
       "1"
      ]
     },
     "execution_count": 7,
     "metadata": {},
     "output_type": "execute_result"
    }
   ],
   "source": [
    "repeatedElement(array2)"
   ]
  },
  {
   "cell_type": "code",
   "execution_count": 8,
   "metadata": {},
   "outputs": [
    {
     "data": {
      "text/plain": [
       "'undefined'"
      ]
     },
     "execution_count": 8,
     "metadata": {},
     "output_type": "execute_result"
    }
   ],
   "source": [
    "repeatedElement(array3)"
   ]
  }
 ],
 "metadata": {
  "kernelspec": {
   "display_name": "Python 3",
   "language": "python",
   "name": "python3"
  },
  "language_info": {
   "codemirror_mode": {
    "name": "ipython",
    "version": 3
   },
   "file_extension": ".py",
   "mimetype": "text/x-python",
   "name": "python",
   "nbconvert_exporter": "python",
   "pygments_lexer": "ipython3",
   "version": "3.7.3"
  }
 },
 "nbformat": 4,
 "nbformat_minor": 4
}
