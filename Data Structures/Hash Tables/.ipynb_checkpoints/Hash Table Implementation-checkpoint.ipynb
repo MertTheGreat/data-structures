{
 "cells": [
  {
   "cell_type": "code",
   "execution_count": 1,
   "metadata": {},
   "outputs": [],
   "source": [
    "class HashTable(object):\n",
    "    def __init__(self, size):\n",
    "        self.keyArray = [None] * size\n",
    "        self.valueArray = [None] * size\n",
    "        self.size = size\n",
    "        self._index = 0\n",
    "\n",
    "    def set(self, key, value):\n",
    "        hashed_key = self.__hash__(key)\n",
    "        if self.keyArray[hashed_key] is None:\n",
    "            self.keyArray[hashed_key] = key\n",
    "            self.valueArray[hashed_key] = value\n",
    "        else:\n",
    "            i = 0\n",
    "            while self.valueArray[hashed_key + i] is not None:\n",
    "                if i + hashed_key + 1 >= self.size:\n",
    "                    i = 0\n",
    "                else:\n",
    "                    i += 1\n",
    "                print(i)\n",
    "                if self.valueArray[hashed_key + i] is None:\n",
    "                    self.keyArray[hashed_key + i] = key\n",
    "                    self.valueArray[hashed_key + i] = value\n",
    "                    break\n",
    "\n",
    "    def get(self, key):\n",
    "        index = self.keyArray.index(key)\n",
    "        return self.valueArray[index]\n",
    "    \n",
    "    def index(self, value):\n",
    "        index = self.valueArray.index(value)\n",
    "        return self.keyArray[index]\n",
    "\n",
    "    def __iter__(self):\n",
    "        \"\"\"\n",
    "        Making the class iterable\n",
    "        \"\"\"\n",
    "        return self\n",
    "\n",
    "    def __next__(self):\n",
    "        \"\"\"\n",
    "        Next item for iteration\n",
    "        \"\"\"\n",
    "        if self._index < self.size:\n",
    "            self._index += 1\n",
    "            return self.valueArray[self._index - 1]\n",
    "        elif self._index == self.size:\n",
    "            self._index = 0\n",
    "            # End of Iteration\n",
    "            raise StopIteration\n",
    "\n",
    "    def __hash__(self, key):\n",
    "        hash = 0\n",
    "        for i in range(len(key)):\n",
    "            hash = (hash + ord(key[i])) % self.size\n",
    "\n",
    "        return hash"
   ]
  },
  {
   "cell_type": "code",
   "execution_count": 2,
   "metadata": {},
   "outputs": [
    {
     "name": "stdout",
     "output_type": "stream",
     "text": [
      "1\n"
     ]
    },
    {
     "data": {
      "text/plain": [
       "600"
      ]
     },
     "execution_count": 2,
     "metadata": {},
     "output_type": "execute_result"
    }
   ],
   "source": [
    "myHash = HashTable(10)\n",
    "myHash.set('ali', 100)\n",
    "myHash.get('ali')\n",
    "myHash.set('kadir', 200)\n",
    "myHash.get('kadir')\n",
    "myHash.set('halil', 300)\n",
    "myHash.get('halil')\n",
    "myHash.set('hayri', 400)\n",
    "myHash.get('hayri')\n",
    "myHash.set('cevdet', 500)\n",
    "myHash.get('cevdet')\n",
    "myHash.set('celal', 600)\n",
    "myHash.get('celal')"
   ]
  },
  {
   "cell_type": "code",
   "execution_count": 3,
   "metadata": {},
   "outputs": [
    {
     "data": {
      "text/plain": [
       "'halil'"
      ]
     },
     "execution_count": 3,
     "metadata": {},
     "output_type": "execute_result"
    }
   ],
   "source": [
    "myHash.index(300)"
   ]
  },
  {
   "cell_type": "code",
   "execution_count": 4,
   "metadata": {},
   "outputs": [
    {
     "name": "stdout",
     "output_type": "stream",
     "text": [
      "100\n",
      "400\n",
      "300\n",
      "200\n",
      "600\n",
      "500\n",
      "None\n",
      "None\n",
      "None\n",
      "None\n"
     ]
    }
   ],
   "source": [
    "for item in myHash:\n",
    "    print(item)"
   ]
  },
  {
   "cell_type": "code",
   "execution_count": 5,
   "metadata": {},
   "outputs": [
    {
     "data": {
      "text/plain": [
       "{'keyArray': ['ali',\n",
       "  'hayri',\n",
       "  'halil',\n",
       "  'kadir',\n",
       "  'celal',\n",
       "  'cevdet',\n",
       "  None,\n",
       "  None,\n",
       "  None,\n",
       "  None],\n",
       " 'valueArray': [100, 400, 300, 200, 600, 500, None, None, None, None],\n",
       " 'size': 10,\n",
       " '_index': 0}"
      ]
     },
     "execution_count": 5,
     "metadata": {},
     "output_type": "execute_result"
    }
   ],
   "source": [
    "myHash.__dict__\n"
   ]
  },
  {
   "cell_type": "code",
   "execution_count": 6,
   "metadata": {},
   "outputs": [],
   "source": [
    "it1=iter(myHash)"
   ]
  },
  {
   "cell_type": "code",
   "execution_count": 11,
   "metadata": {},
   "outputs": [
    {
     "data": {
      "text/plain": [
       "400"
      ]
     },
     "execution_count": 11,
     "metadata": {},
     "output_type": "execute_result"
    }
   ],
   "source": [
    "next(it1)"
   ]
  },
  {
   "cell_type": "code",
   "execution_count": null,
   "metadata": {},
   "outputs": [],
   "source": []
  }
 ],
 "metadata": {
  "kernelspec": {
   "display_name": "Python 3",
   "language": "python",
   "name": "python3"
  },
  "language_info": {
   "codemirror_mode": {
    "name": "ipython",
    "version": 3
   },
   "file_extension": ".py",
   "mimetype": "text/x-python",
   "name": "python",
   "nbconvert_exporter": "python",
   "pygments_lexer": "ipython3",
   "version": "3.7.3"
  }
 },
 "nbformat": 4,
 "nbformat_minor": 4
}
