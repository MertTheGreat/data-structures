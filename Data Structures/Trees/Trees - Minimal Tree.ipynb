{
 "cells": [
  {
   "cell_type": "markdown",
   "metadata": {},
   "source": [
    "Given a sorted (increasing order) array with unique integer elements, write an algo­rithm to create a binary search tree with minimal height.\n",
    "\n",
    "> hint # 19 : A minimal binary tree has about the same number of nodes on the left of each node as on the right. Let's focus on just the root for now. How would you ensure that about the same number of nodes are on the left of the root as on the right?\n",
    "\n",
    "> hint # 73 : You could implement this by finding the \"ideal\" next element to add and repeatedly calling insertValue. This will be a bit inefficient, as you would have to repeatedly traverse the tree. Try _**recursion**_ instead. Can you divide this problem into subproblems?\n",
    "\n",
    "> hint # 116 : Imagine we had a createMinimalTree method that returns a minimal tree for a given array (but for some strange reason doesn't operate on the root of the tree). Could you use this to operate on the root of the tree? Could you write the base case for the function? Great! Then that's basically the entire function.\n",
    "\n",
    "\n",
    "\n"
   ]
  },
  {
   "cell_type": "code",
   "execution_count": 8,
   "metadata": {},
   "outputs": [],
   "source": [
    "class Node(object):\n",
    "    def __init__(self, value=None):\n",
    "        self.value = value\n",
    "        self.left = None\n",
    "        self.right = None\n",
    "    \n",
    "    def __str__(self):\n",
    "        return '('+str(self.left)+':L ' + \"V:\" + str(self.value) + \" R:\" + str(self.right)+')'"
   ]
  },
  {
   "cell_type": "code",
   "execution_count": 18,
   "metadata": {},
   "outputs": [],
   "source": [
    "def array_to_binary_tree(array, start=None, end=None):\n",
    "    if start is None and end is None:\n",
    "        start = array[0]\n",
    "        end = array[len(array)-1]\n",
    "    if start > end:\n",
    "        return None\n",
    "    \n",
    "    median = (end+start) // 2\n",
    "\n",
    "    root = Node(median)\n",
    "    root.left = array_to_binary_tree(array, start, median-1)\n",
    "    root.right = array_to_binary_tree(array, median+1, end)\n",
    "    return root"
   ]
  },
  {
   "cell_type": "code",
   "execution_count": 21,
   "metadata": {},
   "outputs": [
    {
     "name": "stdout",
     "output_type": "stream",
     "text": "(((None:L V:1 R:None):L V:2 R:(None:L V:3 R:None)):L V:4 R:((None:L V:5 R:None):L V:6 R:(None:L V:7 R:None)))\n"
    }
   ],
   "source": [
    "array = [1,2,3,4,5,6,7]\n",
    "print(array_to_binary_tree(array))"
   ]
  },
  {
   "cell_type": "code",
   "execution_count": null,
   "metadata": {},
   "outputs": [],
   "source": []
  }
 ],
 "metadata": {
  "kernelspec": {
   "display_name": "Python 3",
   "language": "python",
   "name": "python3"
  },
  "language_info": {
   "codemirror_mode": {
    "name": "ipython",
    "version": 3
   },
   "file_extension": ".py",
   "mimetype": "text/x-python",
   "name": "python",
   "nbconvert_exporter": "python",
   "pygments_lexer": "ipython3",
   "version": "3.7.3"
  }
 },
 "nbformat": 4,
 "nbformat_minor": 4
}