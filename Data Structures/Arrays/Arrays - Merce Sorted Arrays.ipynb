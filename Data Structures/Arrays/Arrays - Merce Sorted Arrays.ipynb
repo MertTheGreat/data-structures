{
 "cells": [
  {
   "cell_type": "markdown",
   "metadata": {},
   "source": [
    "# Given two arrays, that are sorted can you merge them in a sorted way\n",
    "* [0,3,4,31], [3,4,6,30] is given [0,3,3,4,4,6,30,31]"
   ]
  },
  {
   "cell_type": "markdown",
   "metadata": {},
   "source": [
    "## Solutions:"
   ]
  },
  {
   "cell_type": "code",
   "execution_count": 64,
   "metadata": {},
   "outputs": [],
   "source": [
    "ar1 = [0,3,4,31]\n",
    "ar2 = [3,4,6,30]"
   ]
  },
  {
   "cell_type": "markdown",
   "metadata": {},
   "source": [
    "### Solution 1\n",
    "1. Add all elements of array1 and array2 to new array\n",
    "2. Sort combined array with if blocks and for loop"
   ]
  },
  {
   "cell_type": "code",
   "execution_count": 65,
   "metadata": {},
   "outputs": [],
   "source": [
    "def mergerArray1(ar1, ar2):\n",
    "    # Cheking\n",
    "    if len(ar1) == 0:\n",
    "        return ar2\n",
    "    if len(ar2) == 0:\n",
    "        return ar1\n",
    "    \n",
    "    \n",
    "    for item in ar2:\n",
    "        ar1.append(item)\n",
    "    \n",
    "    # Bubble Sort\n",
    "    flag = True\n",
    "    while flag:\n",
    "        flag = False\n",
    "        for i in range(len(ar1)-1):\n",
    "            if ar1[i] > ar1[i+1]:\n",
    "                ar1[i], ar1[i+1] = ar1[i+1], ar1[i]\n",
    "                flag = True \n",
    "    return ar1   "
   ]
  },
  {
   "cell_type": "code",
   "execution_count": 66,
   "metadata": {},
   "outputs": [
    {
     "data": {
      "text/plain": [
       "[0, 3, 3, 4, 4, 6, 30, 31]"
      ]
     },
     "execution_count": 66,
     "metadata": {},
     "output_type": "execute_result"
    }
   ],
   "source": [
    "mergerArray1(ar1,ar2)"
   ]
  },
  {
   "cell_type": "markdown",
   "metadata": {},
   "source": [
    "_This is O(n^2) because bubble sort_\n",
    "\n",
    "**This solution also work if the arrays are not sorted**"
   ]
  },
  {
   "cell_type": "markdown",
   "metadata": {},
   "source": [
    "### Solution 2\n",
    "1. Iter throug the second array, if block with first array"
   ]
  },
  {
   "cell_type": "code",
   "execution_count": 80,
   "metadata": {},
   "outputs": [],
   "source": [
    "def mergerArray2(ar1, ar2):\n",
    "    newAr=[]\n",
    "    i=0\n",
    "    j=0\n",
    "    \n",
    "    while i<len(ar1) and j<len(ar2):\n",
    "        if ar1[i] < ar2[j]:\n",
    "            newAr.append(ar1[i])\n",
    "            i+=1\n",
    "        else:\n",
    "            newAr.append(ar2[j])\n",
    "            j+=1\n",
    "        \n",
    "    while i<len(ar1):\n",
    "        newAr.append(ar1[i])\n",
    "        i+=1\n",
    "    while j<len(ar2):\n",
    "        newAr.append(ar2[j])\n",
    "        j+=1\n",
    "        \n",
    "\n",
    "    return newAr"
   ]
  },
  {
   "cell_type": "code",
   "execution_count": 81,
   "metadata": {},
   "outputs": [
    {
     "data": {
      "text/plain": [
       "[0, 3, 3, 3, 4, 4, 4, 6, 6, 30, 30, 31]"
      ]
     },
     "execution_count": 81,
     "metadata": {},
     "output_type": "execute_result"
    }
   ],
   "source": [
    "mergerArray2(ar1,ar2)"
   ]
  },
  {
   "cell_type": "markdown",
   "metadata": {},
   "source": [
    "_This is O(n1+n2)_"
   ]
  },
  {
   "cell_type": "code",
   "execution_count": null,
   "metadata": {},
   "outputs": [],
   "source": []
  }
 ],
 "metadata": {
  "kernelspec": {
   "display_name": "Python 3",
   "language": "python",
   "name": "python3"
  },
  "language_info": {
   "codemirror_mode": {
    "name": "ipython",
    "version": 3
   },
   "file_extension": ".py",
   "mimetype": "text/x-python",
   "name": "python",
   "nbconvert_exporter": "python",
   "pygments_lexer": "ipython3",
   "version": "3.7.3"
  }
 },
 "nbformat": 4,
 "nbformat_minor": 4
}
