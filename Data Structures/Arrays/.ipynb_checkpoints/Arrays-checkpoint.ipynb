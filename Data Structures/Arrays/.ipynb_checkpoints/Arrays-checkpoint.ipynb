{
 "cells": [
  {
   "cell_type": "markdown",
   "metadata": {},
   "source": [
    "# Arrays\n",
    "\n",
    "**Arrays** (sometimes called lists) organizes items sequentially, that one after another in memory.\n",
    "\n",
    "<img align=\"left\" src=\"https://i.imgur.com/cXX7kY9.png\" width=\"250\" height=\"300\" style=\"display:block\">\n",
    "\n",
    "Just like on the left numbers are the index of an array and strings are the values.\n",
    "\n",
    "Because they are stored in contiguous memory that is in order, they also have smallest footprint of any data structure, **Arrays** are the most used data structure.\n",
    "\n",
    "### Arrays have 4 rules below\n",
    "</br>\n",
    "</br>\n",
    "</br>\n",
    "</br>\n",
    "</br>\n",
    "</br>\n",
    "</br>\n",
    "</br>\n",
    "\n",
    "<img align=\"left\" src=\"https://i.imgur.com/BQDx6z9.png\" width=\"250\" height=\"300\" style=\"display:block\">"
   ]
  },
  {
   "cell_type": "markdown",
   "metadata": {},
   "source": [
    "# Example"
   ]
  },
  {
   "cell_type": "code",
   "execution_count": 1,
   "metadata": {},
   "outputs": [
    {
     "name": "stdout",
     "output_type": "stream",
     "text": [
      "['a', 'b', 'c', 'd']\n",
      "['a', 'b', 'c', 'd', 'e']\n",
      "['a', 'b', 'c', 'd']\n"
     ]
    }
   ],
   "source": [
    "Strings = ['a', 'b', 'c', 'd']\n",
    "\n",
    "print(Strings)\n",
    "\n",
    "# Append or Push\n",
    "Strings.append('e')\n",
    "\n",
    "print(Strings)\n",
    "\n",
    "#Pop\n",
    "Strings.pop()\n",
    "\n",
    "print(Strings)"
   ]
  },
  {
   "cell_type": "markdown",
   "metadata": {},
   "source": [
    "_This is a O(1) constant time opperation._"
   ]
  },
  {
   "cell_type": "code",
   "execution_count": 2,
   "metadata": {},
   "outputs": [
    {
     "name": "stdout",
     "output_type": "stream",
     "text": [
      "['x', 'a', 'b', 'c', 'd']\n"
     ]
    }
   ],
   "source": [
    "# Insert(index, value) or unshift\n",
    "\n",
    "Strings.insert(0, 'x')\n",
    "\n",
    "print(Strings)"
   ]
  },
  {
   "cell_type": "markdown",
   "metadata": {},
   "source": [
    "_This is O(n) because when you add a value to beginning you change indexes of all characters._"
   ]
  },
  {
   "cell_type": "markdown",
   "metadata": {},
   "source": [
    "# Types of Array\n",
    "* Static\n",
    "    * Fixed in size, you need to speficy number of elements your array will hold ahead of time.\n",
    "* Dynamic\n",
    "    * Allow us to copy and rebuild an array at a new location which with more memory.\n",
    "    \n",
    "Languages like C++ or Java use _Static Arrays_ but high level languages like Python or JavaScript automatically allocate memory to the increase size of the array. This mone of the reasons why low level languages are faster gives you more control on memory but high level languages let the machine do it for you."
   ]
  },
  {
   "cell_type": "markdown",
   "metadata": {},
   "source": [
    "<img align=\"left\" src=\"https://i.imgur.com/ZI4NpmS.png\" width=\"250\" height=\"300\" style=\"display:block\">\n",
    "\n",
    "> Append on **Dynamic Arrays** can be O(n). But for Python it is O(n), [source](https://wiki.python.org/moin/TimeComplexity)\n"
   ]
  },
  {
   "cell_type": "markdown",
   "metadata": {},
   "source": [
    "# Build Your Own Dynamic Array\n",
    "_This class is also has a [repository](https://github.com/MertTheGreat/Dynamic-Array-Implementation)_"
   ]
  },
  {
   "cell_type": "code",
   "execution_count": 88,
   "metadata": {},
   "outputs": [],
   "source": [
    "import ctypes\n",
    "\n",
    "class MyArray(object):\n",
    "    def __init__(self):\n",
    "        self.length=0\n",
    "        self.capacity = 1\n",
    "        self.my_array = self.make_array(self.capacity)\n",
    "        self._index = 0\n",
    "    \n",
    "    def __len__(self):\n",
    "        \"\"\" \n",
    "        Return number of elements sorted in array \n",
    "        \"\"\"\n",
    "        return self.length\n",
    "    \n",
    "    def __getitem__(self, k):\n",
    "        \"\"\" \n",
    "        Return element at index k \n",
    "        \"\"\"\n",
    "        if not 0<=k<=self.length:\n",
    "            # Check it k index is in bounds of array \n",
    "            return IndexError(\"K is out of bounds!\")\n",
    "        return self.my_array[k] # Retrieve from the array at index k \n",
    "    \n",
    "    def __iter__(self):\n",
    "        \"\"\"\n",
    "        Making the calss iterable\n",
    "        \"\"\"\n",
    "        return self\n",
    "\n",
    "    def __next__(self):\n",
    "        \"\"\"\n",
    "        Next item for iteration\n",
    "        \"\"\"\n",
    "        if self._index < self.length:\n",
    "            self._index +=1\n",
    "            return self.my_array[self._index-1]\n",
    "        elif self._index == self.length:\n",
    "                self._index = 0\n",
    "                # End of Iteration\n",
    "                raise StopIteration\n",
    "    \n",
    "    def append(self, elm):\n",
    "        \"\"\" \n",
    "        Add element to end of the array \n",
    "        \"\"\"\n",
    "        if self.length==self.capacity:\n",
    "            # Double capacity if not enough room \n",
    "            self._resize(2*self.capacity)\n",
    "            \n",
    "        self.my_array[self.length] = elm # Set self.n index to element \n",
    "        self.length+=1\n",
    "    \n",
    "    def pop(self):\n",
    "        \"\"\"\n",
    "        Delete the last item on the array\n",
    "        \"\"\"\n",
    "        lastItem = self.my_array[self.length - 1]\n",
    "        \n",
    "        \n",
    "        new_array = self.make_array(self.length - 1)\n",
    "        \n",
    "        for k in range(self.length - 1): # Reference all existing values - last one\n",
    "            new_array[k] = self.my_array[k]\n",
    "        \n",
    "        self.my_array = new_array\n",
    "        self.length -=1\n",
    "        self.capacity -=1\n",
    "        \n",
    "        \n",
    "        print(str(lastItem) + ' has been deleted.')\n",
    "    \n",
    "    def delete(self, indexN):\n",
    "        \"\"\"\n",
    "        Delete any item with given index\n",
    "        \"\"\"\n",
    "        if not 0<=indexN<=self.length:\n",
    "            # Check it index is in bounds of array \n",
    "            return IndexError(\"Index is out of bounds!\")\n",
    "        \n",
    "        deletedItem = self.my_array[indexN]\n",
    "        \n",
    "        new_array = self.make_array(self.length - 1)\n",
    "        \n",
    "        for k in range(self.length): # Reference all existing values - last one\n",
    "            if k < indexN:\n",
    "                new_array[k] = self.my_array[k]\n",
    "            elif k > indexN:\n",
    "                new_array[k-1] = self.my_array[k]\n",
    "        \n",
    "        self.my_array = new_array\n",
    "        self.length -=1\n",
    "        self.capacity -=1\n",
    "        \n",
    "        print(str(deletedItem) + ' has been deleted.')\n",
    "        \n",
    "    def _resize(self, new_cap):\n",
    "        \"\"\" \n",
    "        Resize internal array to capacity new_cap \n",
    "        \"\"\"\n",
    "        new_array = self.make_array(new_cap) # New bigger array \n",
    "        \n",
    "        for k in range(self.length): # Reference all existing values\n",
    "            new_array[k] = self.my_array[k]\n",
    "        \n",
    "        self.my_array = new_array # Call A the new bigger array \n",
    "        self.capacity = new_cap  # Reset the capacity \n",
    "        \n",
    "    def make_array(self, new_cap):\n",
    "        \"\"\" \n",
    "        Returns a new array with new_cap capacity \n",
    "        \"\"\"\n",
    "        return (new_cap * ctypes.py_object)()"
   ]
  },
  {
   "cell_type": "markdown",
   "metadata": {},
   "source": [
    "_Creatign the array_"
   ]
  },
  {
   "cell_type": "code",
   "execution_count": 89,
   "metadata": {},
   "outputs": [],
   "source": [
    "myArray = MyArray()"
   ]
  },
  {
   "cell_type": "markdown",
   "metadata": {},
   "source": [
    "_Appending the array_"
   ]
  },
  {
   "cell_type": "code",
   "execution_count": 90,
   "metadata": {},
   "outputs": [
    {
     "data": {
      "text/plain": [
       "1"
      ]
     },
     "execution_count": 90,
     "metadata": {},
     "output_type": "execute_result"
    }
   ],
   "source": [
    "myArray.append(1)\n",
    "len(myArray)"
   ]
  },
  {
   "cell_type": "code",
   "execution_count": 91,
   "metadata": {},
   "outputs": [
    {
     "data": {
      "text/plain": [
       "1"
      ]
     },
     "execution_count": 91,
     "metadata": {},
     "output_type": "execute_result"
    }
   ],
   "source": [
    "myArray.append(2)\n",
    "myArray[0]"
   ]
  },
  {
   "cell_type": "code",
   "execution_count": 92,
   "metadata": {},
   "outputs": [
    {
     "data": {
      "text/plain": [
       "2"
      ]
     },
     "execution_count": 92,
     "metadata": {},
     "output_type": "execute_result"
    }
   ],
   "source": [
    "myArray[1]"
   ]
  },
  {
   "cell_type": "code",
   "execution_count": 93,
   "metadata": {},
   "outputs": [
    {
     "data": {
      "text/plain": [
       "int"
      ]
     },
     "execution_count": 93,
     "metadata": {},
     "output_type": "execute_result"
    }
   ],
   "source": [
    "type(myArray[1])"
   ]
  },
  {
   "cell_type": "markdown",
   "metadata": {},
   "source": [
    "_See all items_"
   ]
  },
  {
   "cell_type": "code",
   "execution_count": 94,
   "metadata": {},
   "outputs": [
    {
     "name": "stdout",
     "output_type": "stream",
     "text": [
      "1\n",
      "2\n"
     ]
    }
   ],
   "source": [
    "for i in range(len(myArray)):\n",
    "    print(myArray[i])"
   ]
  },
  {
   "cell_type": "code",
   "execution_count": 95,
   "metadata": {},
   "outputs": [
    {
     "data": {
      "text/plain": [
       "1"
      ]
     },
     "execution_count": 95,
     "metadata": {},
     "output_type": "execute_result"
    }
   ],
   "source": [
    "myArray[0]"
   ]
  },
  {
   "cell_type": "markdown",
   "metadata": {},
   "source": [
    "_Delete the last item_"
   ]
  },
  {
   "cell_type": "code",
   "execution_count": 96,
   "metadata": {},
   "outputs": [
    {
     "name": "stdout",
     "output_type": "stream",
     "text": [
      "2 has been deleted.\n"
     ]
    }
   ],
   "source": [
    "myArray.pop()"
   ]
  },
  {
   "cell_type": "code",
   "execution_count": 97,
   "metadata": {},
   "outputs": [
    {
     "name": "stdout",
     "output_type": "stream",
     "text": [
      "1\n"
     ]
    }
   ],
   "source": [
    "for i in range(len(myArray)):\n",
    "    print(myArray[i])"
   ]
  },
  {
   "cell_type": "code",
   "execution_count": 98,
   "metadata": {},
   "outputs": [
    {
     "name": "stdout",
     "output_type": "stream",
     "text": [
      "1\n",
      "2\n",
      "3\n",
      "4\n",
      "5\n"
     ]
    }
   ],
   "source": [
    "myArray.append(2)\n",
    "myArray.append(3)\n",
    "myArray.append(4)\n",
    "myArray.append(5)\n",
    "\n",
    "for i in range(len(myArray)):\n",
    "    print(myArray[i])"
   ]
  },
  {
   "cell_type": "markdown",
   "metadata": {},
   "source": [
    "_Let\\'s delete 3 from myArray_"
   ]
  },
  {
   "cell_type": "code",
   "execution_count": 99,
   "metadata": {},
   "outputs": [
    {
     "name": "stdout",
     "output_type": "stream",
     "text": [
      "3 has been deleted.\n"
     ]
    }
   ],
   "source": [
    "myArray.delete(2)"
   ]
  },
  {
   "cell_type": "code",
   "execution_count": 100,
   "metadata": {},
   "outputs": [
    {
     "name": "stdout",
     "output_type": "stream",
     "text": [
      "1\n",
      "2\n",
      "4\n",
      "5\n"
     ]
    }
   ],
   "source": [
    "for i in range(len(myArray)):\n",
    "    print(myArray[i])"
   ]
  },
  {
   "cell_type": "markdown",
   "metadata": {},
   "source": [
    "_Let's see if the MyArray class is iterable_"
   ]
  },
  {
   "cell_type": "code",
   "execution_count": 101,
   "metadata": {},
   "outputs": [
    {
     "name": "stdout",
     "output_type": "stream",
     "text": [
      "1\n",
      "2\n",
      "4\n",
      "5\n"
     ]
    }
   ],
   "source": [
    "for item in myArray:\n",
    "    print(item)"
   ]
  },
  {
   "cell_type": "code",
   "execution_count": null,
   "metadata": {},
   "outputs": [],
   "source": []
  }
 ],
 "metadata": {
  "file_extension": ".py",
  "kernelspec": {
   "display_name": "Python 3",
   "language": "python",
   "name": "python3"
  },
  "language_info": {
   "codemirror_mode": {
    "name": "ipython",
    "version": 3
   },
   "file_extension": ".py",
   "mimetype": "text/x-python",
   "name": "python",
   "nbconvert_exporter": "python",
   "pygments_lexer": "ipython3",
   "version": "3.7.3"
  },
  "mimetype": "text/x-python",
  "name": "python",
  "npconvert_exporter": "python",
  "pygments_lexer": "ipython3",
  "version": 3
 },
 "nbformat": 4,
 "nbformat_minor": 4
}
