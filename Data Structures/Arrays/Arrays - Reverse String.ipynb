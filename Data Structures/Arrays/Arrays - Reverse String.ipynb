{
 "cells": [
  {
   "cell_type": "markdown",
   "metadata": {},
   "source": [
    "# Create a function that reverse a string\n",
    "\n",
    "* _'Hi Mert how are you'_ should be _'uoy era woh treM iH'_"
   ]
  },
  {
   "cell_type": "markdown",
   "metadata": {},
   "source": [
    "## Solutions:"
   ]
  },
  {
   "cell_type": "code",
   "execution_count": 78,
   "metadata": {},
   "outputs": [],
   "source": [
    "def reverseStringForLoop(strr):\n",
    "    # Check the input\n",
    "    if type(strr) == str:\n",
    "        if strr == None or len(strr) < 2:\n",
    "            return 'Invalid Input'\n",
    "        rev = [None] * len(strr)\n",
    "        for i in range(len(strr)):\n",
    "            rev[len(rev)-i-1] = strr[i]\n",
    "        return ''.join(rev)\n",
    "    else:\n",
    "        return 'Invalid Input'"
   ]
  },
  {
   "cell_type": "code",
   "execution_count": 81,
   "metadata": {},
   "outputs": [],
   "source": [
    "def reverseStringWhileLoop(strr):\n",
    "    # Check the input\n",
    "    if type(strr) == str:\n",
    "        if strr == None or len(strr) < 2:\n",
    "            return 'Invalid Input'\n",
    "        rev = []\n",
    "        lengthCounter = len(strr) - 1\n",
    "        while lengthCounter >= 0:\n",
    "            rev.append(strr[lengthCounter])\n",
    "            lengthCounter-=1\n",
    "        return ''.join(rev)\n",
    "    else:\n",
    "        return 'Invalid Input'"
   ]
  },
  {
   "cell_type": "code",
   "execution_count": 83,
   "metadata": {},
   "outputs": [],
   "source": [
    "def reverseStringSlicing(strr):\n",
    "    # Check the input\n",
    "    if type(strr) == str:\n",
    "        if strr == None or len(strr) < 2:\n",
    "            return 'Invalid Input'\n",
    "        return strr[::-1]\n",
    "    else:\n",
    "        return 'Invalid Input'"
   ]
  },
  {
   "cell_type": "code",
   "execution_count": 85,
   "metadata": {},
   "outputs": [],
   "source": [
    "def reverseStringForLoopString(strr):\n",
    "    # Check the input\n",
    "    if type(strr) == str:\n",
    "        if strr == None or len(strr) < 2:\n",
    "            return 'Invalid Input'\n",
    "        rev = ''\n",
    "        for chacter in strr:\n",
    "            rev = chacter + rev\n",
    "        return rev\n",
    "    else:\n",
    "        return 'Invalid Input'"
   ]
  },
  {
   "cell_type": "code",
   "execution_count": 122,
   "metadata": {},
   "outputs": [],
   "source": [
    "def reverseStringJoinNReverse(strr):\n",
    "    # Check the input\n",
    "    if type(strr) == str:\n",
    "        if strr == None or len(strr) < 2:\n",
    "            return 'Invalid Input'\n",
    "        return ''.join(reversed(strr))\n",
    "    else:\n",
    "        return 'Invalid Input'"
   ]
  },
  {
   "cell_type": "code",
   "execution_count": 125,
   "metadata": {},
   "outputs": [],
   "source": [
    "def reverseStringList(strr):\n",
    "    # Check the input\n",
    "    if type(strr) == str:\n",
    "        if strr == None or len(strr) < 2:\n",
    "            return 'Invalid Input'\n",
    "        rev = list(strr)\n",
    "        rev.reverse()\n",
    "        return ''.join(rev) \n",
    "    else:\n",
    "        return 'Invalid Input'"
   ]
  },
  {
   "cell_type": "markdown",
   "metadata": {},
   "source": [
    "# Calculating Time Complexity, Best Function"
   ]
  },
  {
   "cell_type": "code",
   "execution_count": 107,
   "metadata": {},
   "outputs": [],
   "source": [
    "import timeit"
   ]
  },
  {
   "cell_type": "code",
   "execution_count": 132,
   "metadata": {},
   "outputs": [
    {
     "name": "stdout",
     "output_type": "stream",
     "text": [
      "For Loop Function Time:0.6941199899\n",
      "While Loop Function Time:0.8274399988\n",
      "Slicing Function Time:0.7206299961\n",
      "For Loop String Function Time:0.7637099952\n",
      "Join and Reverse Function Time:0.8900499961\n",
      "Using List Function Time:0.6269399819\n"
     ]
    }
   ],
   "source": [
    "start_time = timeit.default_timer()\n",
    "\n",
    "reverseStringForLoop('Hi Mert how are you')\n",
    "print('For Loop Function Time:' + str(\"%.10f\" %((timeit.default_timer() - start_time)*10000)))\n",
    "\n",
    "start_time = timeit.default_timer()\n",
    "\n",
    "reverseStringWhileLoop('Hi Mert how are you')\n",
    "print('While Loop Function Time:' + str(\"%.10f\" %((timeit.default_timer() - start_time)*10000)))\n",
    "\n",
    "start_time = timeit.default_timer()\n",
    "\n",
    "reverseStringSlicing('Hi Mert how are you')\n",
    "print('Slicing Function Time:' + str(\"%.10f\" %((timeit.default_timer() - start_time)*10000)))\n",
    "\n",
    "start_time = timeit.default_timer()\n",
    "\n",
    "reverseStringForLoopString('Hi Mert how are you')\n",
    "print('For Loop String Function Time:' + str(\"%.10f\" %((timeit.default_timer() - start_time)*10000)))\n",
    "\n",
    "start_time = timeit.default_timer()\n",
    "\n",
    "reverseStringJoinNReverse('Hi Mert how are you')\n",
    "print('Join and Reverse Function Time:' + str(\"%.10f\" %((timeit.default_timer() - start_time)*10000)))\n",
    "\n",
    "start_time = timeit.default_timer()\n",
    "\n",
    "reverseStringList('Hi Mert how are you')\n",
    "print('Using List Function Time:' + str(\"%.10f\" %((timeit.default_timer() - start_time)*10000)))"
   ]
  },
  {
   "cell_type": "markdown",
   "metadata": {},
   "source": [
    "### It looks like for loop function is the fastest, and slicing function is the second fastest."
   ]
  },
  {
   "cell_type": "code",
   "execution_count": null,
   "metadata": {},
   "outputs": [],
   "source": []
  }
 ],
 "metadata": {
  "kernelspec": {
   "display_name": "Python 3",
   "language": "python",
   "name": "python3"
  },
  "language_info": {
   "codemirror_mode": {
    "name": "ipython",
    "version": 3
   },
   "file_extension": ".py",
   "mimetype": "text/x-python",
   "name": "python",
   "nbconvert_exporter": "python",
   "pygments_lexer": "ipython3",
   "version": "3.7.3"
  }
 },
 "nbformat": 4,
 "nbformat_minor": 4
}
