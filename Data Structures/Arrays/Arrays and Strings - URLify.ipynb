{
 "cells": [
  {
   "cell_type": "markdown",
   "metadata": {},
   "source": [
    "# URLify\n",
    "Write a method to replace all spaces in a string with '%20'. You may assume that the string has sufficient space at the end to hold the additional characters,and that you are given the \"true\" length of the string. (Note: If implementing in Java,please use a character array so that you can perform this operation in place.)\n",
    "## EXAMPLE\n",
    "> Input: \"Mr John Smith    \", 13 \n",
    "\n",
    "> Output: \"Mr%20John%20Smith\" \n",
    "\n",
    "* Hints: #53, #118\n",
    "\n",
    "53: It's often easiest to modify strings by going from the end of the string to the beginning.\n",
    "118: You might find you need to know the number of spaces. Can you just count them?"
   ]
  },
  {
   "cell_type": "code",
   "execution_count": 20,
   "metadata": {},
   "outputs": [],
   "source": [
    "def URLify(s, length):\n",
    "    s = list(s)\n",
    "    nextIndex = len(s)\n",
    "\n",
    "    for i in reversed(range(length)):\n",
    "        if s[i] == ' ':\n",
    "            s[nextIndex-3:nextIndex] = '%20'\n",
    "            nextIndex -= 3\n",
    "        else:\n",
    "            s[nextIndex-1] = s[i]\n",
    "            nextIndex -= 1\n",
    "    return ''.join(s)"
   ]
  },
  {
   "cell_type": "code",
   "execution_count": 21,
   "metadata": {},
   "outputs": [
    {
     "data": {
      "text/plain": [
       "'much%20ado%20about%20nothing'"
      ]
     },
     "execution_count": 21,
     "metadata": {},
     "output_type": "execute_result"
    }
   ],
   "source": [
    "URLify('much ado about nothing      ',22)"
   ]
  },
  {
   "cell_type": "code",
   "execution_count": null,
   "metadata": {},
   "outputs": [],
   "source": []
  }
 ],
 "metadata": {
  "kernelspec": {
   "display_name": "Python 3",
   "language": "python",
   "name": "python3"
  },
  "language_info": {
   "codemirror_mode": {
    "name": "ipython",
    "version": 3
   },
   "file_extension": ".py",
   "mimetype": "text/x-python",
   "name": "python",
   "nbconvert_exporter": "python",
   "pygments_lexer": "ipython3",
   "version": "3.7.3"
  }
 },
 "nbformat": 4,
 "nbformat_minor": 4
}
