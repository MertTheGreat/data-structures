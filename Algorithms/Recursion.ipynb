{
 "cells": [
  {
   "cell_type": "markdown",
   "metadata": {},
   "source": [
    "# Recursion\n",
    "Recursion is calling the function inside the function to create a loop.\n",
    "\n",
    "Recurtion stact each function to the memory, therefore if end point conditon did not coded stack memory will reach its limit (*stackoverflow*).\n",
    "\n",
    "Every *recursion* algorithm can be written with loops.\n",
    "\n",
    "Recursin is best to use when you don't know how deep the data structure is like **trees** or **graphs** or you don't know how many loop that you need to go through.\n",
    "\n",
    "## When to use Recursion\n",
    "\n",
    "* Every time you use **Tree** data structure.\n",
    "* If the problem can be divide into sub-problem like Factorial or Fibunacci Numbers.\n",
    "* Ecah of the calculations are identical, which means use same kind of algorithm.\n",
    "* If the solutions of each subproblem combine to solve the problem. \n",
    "* On **Divede and Concur** problem it is better to use recursive."
   ]
  },
  {
   "cell_type": "markdown",
   "metadata": {},
   "source": [
    "# Exercises \n",
    "\n",
    "## Find the factorial any number\n",
    "\n",
    "Write two functions that finds the factorial of any number. One should use recursive, the other should just use a for loop"
   ]
  },
  {
   "cell_type": "code",
   "execution_count": 34,
   "metadata": {},
   "outputs": [],
   "source": [
    "def factorial_recursive(number, fac = 1, counter = 1):\n",
    "    if counter == number:\n",
    "        return fac\n",
    "    fac *= (counter +1)\n",
    "    counter+=1\n",
    "    return factorial_recursive(number, fac, counter)"
   ]
  },
  {
   "cell_type": "code",
   "execution_count": 50,
   "metadata": {},
   "outputs": [],
   "source": [
    "def factorial_nonrecursive(number):\n",
    "    fac = 1\n",
    "    for c in range(1,number+1):\n",
    "        fac *= (c) \n",
    "    return fac"
   ]
  },
  {
   "cell_type": "code",
   "execution_count": 35,
   "metadata": {},
   "outputs": [
    {
     "data": {
      "text/plain": [
       "120"
      ]
     },
     "execution_count": 35,
     "metadata": {},
     "output_type": "execute_result"
    }
   ],
   "source": [
    "factorial_recursive(5)"
   ]
  },
  {
   "cell_type": "code",
   "execution_count": 51,
   "metadata": {},
   "outputs": [
    {
     "data": {
      "text/plain": [
       "120"
      ]
     },
     "execution_count": 51,
     "metadata": {},
     "output_type": "execute_result"
    }
   ],
   "source": [
    "factorial_nonrecursive(5)"
   ]
  },
  {
   "cell_type": "markdown",
   "metadata": {},
   "source": [
    "## Fibonacci\n",
    "// Given a number N return the index value of the Fibonacci sequence, where the sequence is:\n",
    "\n",
    "// 0, 1, 1, 2, 3, 5, 8, 13, 21, 34, 55, 89, 144 ...\n",
    "// the pattern of the sequence is that each value is the sum of the 2 previous values, that means that for N=5 → 2+3\n",
    "\n",
    "//For example: fibonacciRecursive(6) should return 8"
   ]
  },
  {
   "cell_type": "code",
   "execution_count": 68,
   "metadata": {},
   "outputs": [],
   "source": [
    "def fibonacci(number, f=0,s=1, counter=1):\n",
    "    temp = s\n",
    "    s += f\n",
    "    f = temp\n",
    "    if counter+1 == number:\n",
    "        return s \n",
    "    counter+=1\n",
    "    return fibonacci(number, f,s, counter)"
   ]
  },
  {
   "cell_type": "code",
   "execution_count": 69,
   "metadata": {},
   "outputs": [
    {
     "data": {
      "text/plain": [
       "8"
      ]
     },
     "execution_count": 69,
     "metadata": {},
     "output_type": "execute_result"
    }
   ],
   "source": [
    "fibonacci(6)"
   ]
  },
  {
   "cell_type": "code",
   "execution_count": 74,
   "metadata": {},
   "outputs": [],
   "source": [
    "def fibonacci_nonrecursive(number):\n",
    "    f = 0\n",
    "    s = 1\n",
    "    for c in range(number-1):\n",
    "        temp = s\n",
    "        s += f\n",
    "        f = temp\n",
    "    return s\n",
    "    "
   ]
  },
  {
   "cell_type": "code",
   "execution_count": 75,
   "metadata": {},
   "outputs": [
    {
     "data": {
      "text/plain": [
       "8"
      ]
     },
     "execution_count": 75,
     "metadata": {},
     "output_type": "execute_result"
    }
   ],
   "source": [
    "fibonacci_nonrecursive(6)"
   ]
  },
  {
   "cell_type": "code",
   "execution_count": null,
   "metadata": {},
   "outputs": [],
   "source": []
  }
 ],
 "metadata": {
  "kernelspec": {
   "display_name": "Python 3",
   "language": "python",
   "name": "python3"
  },
  "language_info": {
   "codemirror_mode": {
    "name": "ipython",
    "version": 3
   },
   "file_extension": ".py",
   "mimetype": "text/x-python",
   "name": "python",
   "nbconvert_exporter": "python",
   "pygments_lexer": "ipython3",
   "version": "3.7.3"
  }
 },
 "nbformat": 4,
 "nbformat_minor": 4
}
