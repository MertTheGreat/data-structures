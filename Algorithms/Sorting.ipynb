{
 "cells": [
  {
   "cell_type": "markdown",
   "metadata": {},
   "source": [
    "# Bubble Sort"
   ]
  },
  {
   "cell_type": "code",
   "execution_count": 2,
   "metadata": {},
   "outputs": [],
   "source": [
    "numbers = [99, 44, 6, 2, 1, 5, 63, 87, 283, 4, 0]"
   ]
  },
  {
   "cell_type": "code",
   "execution_count": 3,
   "metadata": {},
   "outputs": [],
   "source": [
    "def bubblesort(array):\n",
    "    length = len(array)\n",
    "    for i in range(length-1):\n",
    "        for j in range(length-1):\n",
    "            if array[j] > array[j+1]:\n",
    "                temp = array[j]\n",
    "                array[j] = array[j+1]\n",
    "                array[j+1] = temp\n",
    "    return array\n"
   ]
  },
  {
   "cell_type": "code",
   "execution_count": 4,
   "metadata": {},
   "outputs": [
    {
     "data": {
      "text/plain": [
       "[0, 1, 2, 4, 5, 6, 44, 63, 87, 99, 283]"
      ]
     },
     "execution_count": 4,
     "metadata": {},
     "output_type": "execute_result"
    }
   ],
   "source": [
    "bubblesort(numbers)"
   ]
  },
  {
   "cell_type": "markdown",
   "metadata": {},
   "source": [
    "# Selection Sort"
   ]
  },
  {
   "cell_type": "code",
   "execution_count": 25,
   "metadata": {},
   "outputs": [],
   "source": [
    "def selection_sort(arr):\n",
    "    length = len(arr)\n",
    "    for i in range(length):\n",
    "        min = arr[i]\n",
    "        for j in range(i,length):\n",
    "            if arr[j]< min:\n",
    "                min = arr[j]\n",
    "                index = j\n",
    "        arr[index] = arr[i]\n",
    "        arr[i] = min\n",
    "    return arr"
   ]
  },
  {
   "cell_type": "code",
   "execution_count": 26,
   "metadata": {},
   "outputs": [
    {
     "data": {
      "text/plain": "[0, 1, 2, 4, 5, 6, 44, 63, 87, 99, 283]"
     },
     "execution_count": 26,
     "metadata": {},
     "output_type": "execute_result"
    }
   ],
   "source": [
    "numbers = [99, 44, 6, 2, 1, 5, 63, 87, 283, 4, 0]\n",
    "selection_sort(numbers)"
   ]
  },
  {
   "cell_type": "markdown",
   "execution_count": null,
   "metadata": {},
   "outputs": [],
   "source": [
    "**Selection Sort** looks through the array finds the minimum and puts at the beggining of the list"
   ]
  },
  {
   "cell_type": "markdown",
   "metadata": {},
   "source": [
    "# Insertion Sort"
   ]
  },
  {
   "cell_type": "code",
   "execution_count": 1,
   "metadata": {},
   "outputs": [],
   "source": [
    "def insertion_sort(array):\n",
    "    for i in range(1, len(array)):\n",
    "        key = array[i]\n",
    "        j = i-1\n",
    "        while j>=0 and array[j]>key:\n",
    "            array[j+1] = array[j]\n",
    "            j-=1\n",
    "        array[j+1] = key\n",
    "    return array"
   ]
  },
  {
   "cell_type": "markdown",
   "execution_count": null,
   "metadata": {},
   "outputs": [],
   "source": [
    "**Insertion Sort** looks through each element and compare with the other elements pr"
   ]
  },
  {
   "cell_type": "code",
   "execution_count": 4,
   "metadata": {},
   "outputs": [],
   "source": [
    "def insertion_sort_ascending(array):\n",
    "    for i in range(1, len(array)):\n",
    "        key = array[i]\n",
    "        j = i-1\n",
    "        while j>=0 and array[j]<key:\n",
    "            array[j+1] = array[j]\n",
    "            j-=1\n",
    "        array[j+1] = key\n",
    "    return array"
   ]
  },
  {
   "cell_type": "code",
   "execution_count": 3,
   "metadata": {},
   "outputs": [
    {
     "data": {
      "text/plain": "[0, 1, 2, 4, 5, 6, 44, 63, 87, 99, 283]"
     },
     "execution_count": 3,
     "metadata": {},
     "output_type": "execute_result"
    }
   ],
   "source": [
    "numbers = [99, 44, 6, 2, 1, 5, 63, 87, 283, 4, 0]\n",
    "insertion_sort(numbers)"
   ]
  },
  {
   "cell_type": "code",
   "execution_count": 5,
   "metadata": {},
   "outputs": [
    {
     "data": {
      "text/plain": "[283, 99, 87, 63, 44, 6, 5, 4, 2, 1, 0]"
     },
     "execution_count": 5,
     "metadata": {},
     "output_type": "execute_result"
    }
   ],
   "source": [
    "insertion_sort_ascending(numbers)"
   ]
  },
  {
   "cell_type": "markdown",
   "metadata": {},
   "source": [
    "# Merge Sort"
   ]
  },
  {
   "cell_type": "code",
   "execution_count": 9,
   "metadata": {},
   "outputs": [],
   "source": [
    "def merge_sorter(arr):\n",
    "    if len(arr) == 1: return arr\n",
    "    # split array into right and left\n",
    "    length = len(arr)\n",
    "    middle = (length) // 2\n",
    "    left = arr[: middle]\n",
    "    right = arr[middle:]\n",
    "\n",
    "    return _merge_(\n",
    "        merge_sorter(left),\n",
    "        merge_sorter(right)\n",
    "    )\n",
    "\n",
    "\n",
    "def _merge_(left_ar, right_ar):\n",
    "    result = []\n",
    "    left_index =0\n",
    "    right_index=0\n",
    "    while left_index<len(left_ar) and right_index<len(right_ar):\n",
    "        if left_ar[left_index]<=right_ar[right_index]:\n",
    "            result.append(left_ar[left_index])\n",
    "            left_index+=1\n",
    "        else:\n",
    "            result.append(right_ar[right_index])\n",
    "            right_index+=1\n",
    "\n",
    "    result += left_ar[left_index:] + right_ar[right_index:]\n",
    "    return result           "
   ]
  },
  {
   "cell_type": "markdown",
   "metadata": {},
   "source": [
    "# Quick Sort"
   ]
  },
  {
   "cell_type": "code",
   "execution_count": 13,
   "metadata": {},
   "outputs": [],
   "source": [
    "def _swap_(arr, first_index, second_index):\n",
    "    temp = arr[first_index]\n",
    "    arr[first_index] = arr[second_index]\n",
    "    arr[second_index] = temp\n",
    "    \n",
    "def _partition_(arr, pivot, left, right):\n",
    "    pivot_value = arr[pivot]\n",
    "    partion_index = left\n",
    "\n",
    "    for i in range(left, right):\n",
    "        if arr[i]<pivot_value:\n",
    "            _swap_(arr, i, partion_index)\n",
    "            partion_index+=1\n",
    "    _swap_(arr, right, partion_index)\n",
    "    return partion_index\n",
    "\n",
    "\n",
    "def quick_sorter(arr, left=0, right=None):\n",
    "    length = len(arr)\n",
    "\n",
    "    if right==None:\n",
    "        right=length-1\n",
    "\n",
    "    if left < right:\n",
    "        pivot = right\n",
    "        partion_index = _partition_(arr, pivot, left, right)\n",
    "\n",
    "        quick_sorter(arr, left, partion_index - 1)\n",
    "        quick_sorter(arr, partion_index + 1, right)\n",
    "    return arr\n"
   ]
  },
  {
   "cell_type": "code",
   "execution_count": 14,
   "metadata": {},
   "outputs": [
    {
     "name": "stdout",
     "output_type": "stream",
     "text": [
      "[0, 1, 2, 4, 5, 6, 44, 63, 87, 99, 283]\n",
      "[0, 1, 2, 4, 5, 6, 44, 63, 87, 99, 283]\n",
      "[0, 1, 2, 4, 5, 6, 44, 63, 87, 99, 283]\n",
      "[0, 1, 2, 4, 5, 6, 44, 63, 87, 99, 283]\n",
      "[0, 1, 2, 4, 5, 6, 44, 63, 87, 99, 283]\n"
     ]
    }
   ],
   "source": [
    "numbers = [99, 44, 6, 2, 1, 5, 63, 87, 283, 4, 0]\n",
    "print(bubblesort(numbers))\n",
    "print(selectionsort(numbers))\n",
    "print(insertionsort(numbers))\n",
    "print(merge_sorter(numbers))\n",
    "print(quick_sorter(numbers))"
   ]
  },
  {
   "cell_type": "code",
   "execution_count": null,
   "metadata": {},
   "outputs": [],
   "source": []
  }
 ],
 "metadata": {
  "kernelspec": {
   "display_name": "Python 3",
   "language": "python",
   "name": "python3"
  },
  "language_info": {
   "codemirror_mode": {
    "name": "ipython",
    "version": 3
   },
   "file_extension": ".py",
   "mimetype": "text/x-python",
   "name": "python",
   "nbconvert_exporter": "python",
   "pygments_lexer": "ipython3",
   "version": "3.7.3-final"
  }
 },
 "nbformat": 4,
 "nbformat_minor": 4
}