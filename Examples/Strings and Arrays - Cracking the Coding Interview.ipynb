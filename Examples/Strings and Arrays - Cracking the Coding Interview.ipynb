{
 "cells": [
  {
   "cell_type": "markdown",
   "metadata": {},
   "source": [
    "# These are the questions at Cracking The Coding Interview Chapter 1 "
   ]
  },
  {
   "cell_type": "markdown",
   "metadata": {},
   "source": [
    "_Question 1:_ **Is Unique:** Implement an algorithm to determine if a string has all unique characters. What if you cannot use additional data structures?"
   ]
  },
  {
   "cell_type": "code",
   "execution_count": 11,
   "metadata": {},
   "outputs": [
    {
     "data": {
      "text/plain": [
       "False"
      ]
     },
     "execution_count": 11,
     "metadata": {},
     "output_type": "execute_result"
    }
   ],
   "source": [
    "def isUnique(st):\n",
    "    if len(st) > 128:\n",
    "        return False\n",
    "    col = [None]*128\n",
    "    for s in st:\n",
    "        if not col[ord(s)]:\n",
    "            col[ord(s)] = 1\n",
    "        else:\n",
    "            return False\n",
    "    return True\n",
    "\n",
    "#Test\n",
    "isUnique(\"atrkmt\")"
   ]
  },
  {
   "cell_type": "markdown",
   "metadata": {},
   "source": [
    "_Question 2:_ **Check Permutation:** Given two strings,write a method to decide if one is a permutation of the\n",
    "other."
   ]
  },
  {
   "cell_type": "code",
   "execution_count": 23,
   "metadata": {},
   "outputs": [
    {
     "data": {
      "text/plain": [
       "False"
      ]
     },
     "execution_count": 23,
     "metadata": {},
     "output_type": "execute_result"
    }
   ],
   "source": [
    "def checkPermutation(st1, st2):\n",
    "    char = {}\n",
    "    for s in st1:\n",
    "        char[s] =char.get(s, 0)+1\n",
    "    for s in st2:\n",
    "        char[s] = char.get(s, 0)-1\n",
    "    for v in char.values():\n",
    "        if v !=0:\n",
    "            return False\n",
    "    return True\n",
    "\n",
    "checkPermutation('ali','akiye')"
   ]
  },
  {
   "cell_type": "markdown",
   "metadata": {},
   "source": [
    "_Question 3:_ **URLify:** Write a method to replace all spaces in a string with '%20'. You may assume that the string has sufficient space at the end to hold the additional characters,and that you are given the \"true\" length of the string. (Note: If implementing in Java,please use a character array so that you can perform this operation in place.)"
   ]
  },
  {
   "cell_type": "code",
   "execution_count": 30,
   "metadata": {},
   "outputs": [
    {
     "data": {
      "text/plain": [
       "'Mr%20Smith%20is%20the%20best'"
      ]
     },
     "execution_count": 30,
     "metadata": {},
     "output_type": "execute_result"
    }
   ],
   "source": [
    "def urlifl(st):\n",
    "    newStr = []\n",
    "    for s in st:\n",
    "        if s == ' ':\n",
    "            newStr.append('%20')\n",
    "        else:\n",
    "            newStr.append(s)\n",
    "    return ''.join(newStr)\n",
    "\n",
    "urlifl('Mr Smith is the best')"
   ]
  },
  {
   "cell_type": "markdown",
   "metadata": {},
   "source": [
    "_Question 4:_ **Palindrome Permutation:** Given a string, write a function to check if it is a permutation of a palin­ drome. A palindrome is a word or phrase that is the same forwards and backwards. A permutation is a rearrangement of letters. The palindrome does not need to be limited to just dictionary words."
   ]
  },
  {
   "cell_type": "code",
   "execution_count": 36,
   "metadata": {},
   "outputs": [
    {
     "data": {
      "text/plain": [
       "True"
      ]
     },
     "execution_count": 36,
     "metadata": {},
     "output_type": "execute_result"
    }
   ],
   "source": [
    "def palindromePermutation(st1, st2):\n",
    "    char = {}\n",
    "    for s in st1:\n",
    "        char[s] = char.get(s,0) + 1\n",
    "    for s in st2:\n",
    "        char[s] = char.get(s,0) - 1\n",
    "    for v in char.values():\n",
    "        if v != 0:\n",
    "            return False\n",
    "    return True\n",
    "\n",
    "palindromePermutation(\"taco day\", \"yad cato\")"
   ]
  },
  {
   "cell_type": "markdown",
   "metadata": {},
   "source": [
    "_Question 5:_ **One Away:** There are three types of edits that can be performed on strings: insert a character, remove a character, or replace a character. Given two strings, write a function to check if they are one edit (or zero edits) away."
   ]
  },
  {
   "cell_type": "code",
   "execution_count": 51,
   "metadata": {},
   "outputs": [
    {
     "data": {
      "text/plain": [
       "False"
      ]
     },
     "execution_count": 51,
     "metadata": {},
     "output_type": "execute_result"
    }
   ],
   "source": [
    "def oneWay(st1, st2):\n",
    "    l1 = len(st1)\n",
    "    l2 = len(st2)\n",
    "    count = counter(st1,st2)\n",
    "    if count > 2 or count < -1:\n",
    "        return False\n",
    "    if l1 == l2 and count == 0:\n",
    "        return True\n",
    "    elif l1 == (l2 - 1) and count - 1:\n",
    "        return True\n",
    "    elif l1 == (l2+1) and count:\n",
    "        return True\n",
    "    else:\n",
    "        return False\n",
    "\n",
    "def counter(st1, st2):\n",
    "    char = {}\n",
    "    count = 0\n",
    "    for s in st1:\n",
    "        char[s] = char.get(s,0) + 1\n",
    "    for s in st2:\n",
    "        char[s] = char.get(s,0) -1\n",
    "    for v in char.values():\n",
    "        count += v\n",
    "    return count\n",
    "\n",
    "oneWay(\"bale\", \"balesii\")"
   ]
  },
  {
   "cell_type": "markdown",
   "metadata": {},
   "source": [
    "_Question 6:_ **String Compression:** Implement a method to perform basic string compression using the counts of repeated characters. For example, the string aabcccccaaa would become a2blc5a3. If the \"compressed\" string would not become smaller than the original string, your method should return\n",
    "the original string. You can assume the string has only uppercase and lowercase letters (a - z)."
   ]
  },
  {
   "cell_type": "code",
   "execution_count": 61,
   "metadata": {},
   "outputs": [
    {
     "data": {
      "text/plain": [
       "'a2b1c5a3e1'"
      ]
     },
     "execution_count": 61,
     "metadata": {},
     "output_type": "execute_result"
    }
   ],
   "source": [
    "def stringCompression(st):\n",
    "    count = 0\n",
    "    result = ''\n",
    "    for i in range(0, len(st)):\n",
    "        if i != len(st)-1:\n",
    "            count +=1\n",
    "            if st[i+1] != st[i]:\n",
    "                result += st[i] + str(count)\n",
    "                count = 0\n",
    "        else:\n",
    "            count += 1\n",
    "            result += st[i] + str(count)\n",
    "    return result\n",
    "stringCompression(\"aabcccccaaae\")"
   ]
  },
  {
   "cell_type": "markdown",
   "metadata": {},
   "source": [
    "_Question 7:_ **Rotate Matrix:** Given an image represented by an NxN matrix, where each pixel in the image is 4 bytes, write a method to rotate the image by 90 degrees. Can you do this in place?\n",
    "\n",
    "![rotate](img/rotate.png)"
   ]
  },
  {
   "cell_type": "code",
   "execution_count": 5,
   "metadata": {},
   "outputs": [],
   "source": [
    "def rotate(matrix):\n",
    "    if len(matrix) == 0 or len(matrix) != len(matrix[0]):\n",
    "        return False\n",
    "    length = len(matrix)\n",
    "    for layer in range(length//2):\n",
    "        first = layer\n",
    "        last = length - layer - 1\n",
    "        for i in range(first, last):\n",
    "            # Save the first element of first row\n",
    "            firstEl = matrix[layer][i]\n",
    "            \n",
    "            \n",
    "            # start at top left\n",
    "            matrix[layer][i] = matrix[-layer-1][-i-1]\n",
    "            # bottom left\n",
    "            matrix[layer][-i-1] = matrix[-layer-i][-i-1]\n",
    "            # bottom right\n",
    "            matrix[-layer - 1][-i-1] = matrix[layer][-i-1]\n",
    "            # top right\n",
    "            matrix[layer][-i-1] = firstEl\n",
    "    return matrix\n",
    "    \n",
    "    "
   ]
  },
  {
   "cell_type": "code",
   "execution_count": 6,
   "metadata": {},
   "outputs": [
    {
     "data": {
      "text/plain": [
       "[[25, 2, 3, 22, 1],\n",
       " [6, 19, 8, 7, 10],\n",
       " [11, 12, 13, 14, 15],\n",
       " [16, 17, 13, 19, 20],\n",
       " [21, 12, 18, 24, 5]]"
      ]
     },
     "execution_count": 6,
     "metadata": {},
     "output_type": "execute_result"
    }
   ],
   "source": [
    "matrix = [\n",
    "            [1, 2, 3, 4, 5],\n",
    "            [6, 7, 8, 9, 10],\n",
    "            [11, 12, 13, 14, 15],\n",
    "            [16, 17, 18, 19, 20],\n",
    "            [21, 22, 23, 24, 25]\n",
    "        ]\n",
    "rotate(matrix)"
   ]
  },
  {
   "cell_type": "markdown",
   "metadata": {},
   "source": [
    "_Question 8_ **Zero Matrix:** Write an algorithm such that if an element in an MxN matrix is 0, its entire row and column are set to 0."
   ]
  },
  {
   "cell_type": "code",
   "execution_count": 7,
   "metadata": {},
   "outputs": [],
   "source": [
    "def zero_matrix(matrix):\n",
    "    m = len(matrix)\n",
    "    n = len(matrix[0])\n",
    "    rows, columns = [], []\n",
    "    \n",
    "    for x in range(m):\n",
    "        for y in range(n):\n",
    "            if matrix[x][y] == 0:\n",
    "                rows.append(x)\n",
    "                columns.append(y)\n",
    "    \n",
    "    for row in rows:\n",
    "        nullify_rows(row, matrix)\n",
    "    for col in columns:\n",
    "        nullify_columns(col,matrix)\n",
    "    \n",
    "    return matrix\n",
    "\n",
    "def nullify_rows(row, matrix):\n",
    "    for i in range(len(matrix[0])):\n",
    "        matrix[row][i] = 0\n",
    "    \n",
    "        \n",
    "def nullify_columns(column, matrix):\n",
    "    for i in range(len(matrix)):\n",
    "        matrix[i][column] = 0"
   ]
  },
  {
   "cell_type": "code",
   "execution_count": 8,
   "metadata": {},
   "outputs": [
    {
     "data": {
      "text/plain": [
       "[[0, 0, 0, 0, 0],\n",
       " [0, 0, 0, 0, 0],\n",
       " [11, 0, 13, 14, 0],\n",
       " [0, 0, 0, 0, 0],\n",
       " [21, 0, 23, 24, 0]]"
      ]
     },
     "execution_count": 8,
     "metadata": {},
     "output_type": "execute_result"
    }
   ],
   "source": [
    "matrix = [\n",
    "            [1, 2, 3, 4, 0],\n",
    "            [6, 0, 8, 9, 10],\n",
    "            [11, 12, 13, 14, 15],\n",
    "            [16, 0, 18, 19, 20],\n",
    "            [21, 22, 23, 24, 25]\n",
    "        ]\n",
    "zero_matrix(matrix)"
   ]
  },
  {
   "cell_type": "markdown",
   "metadata": {},
   "source": [
    "_Question 9:_ **StringRotation:** Assume you have a method isSubstring which checks if one word is a subString of another. Given two strings, 51 and 52, write code to check if 52 is a rotation of 51 using only one call to i5Sub5tring (e.g., \"waterbottle\" is a rotation of\" erbottlewat\")."
   ]
  },
  {
   "cell_type": "code",
   "execution_count": 14,
   "metadata": {},
   "outputs": [],
   "source": [
    "def string_rotation(str1, str2):\n",
    "    if len(str1)==len(str2) and len(str1)>0:\n",
    "        return is_substring(str1+str1,str2)\n",
    "    return False\n",
    "    \n",
    "def is_substring(string, sub):\n",
    "    return string.find(sub) != -1"
   ]
  },
  {
   "cell_type": "code",
   "execution_count": 15,
   "metadata": {},
   "outputs": [
    {
     "name": "stdout",
     "output_type": "stream",
     "text": [
      "True\n",
      "False\n",
      "False\n"
     ]
    }
   ],
   "source": [
    "data = [\n",
    "        ('waterbottle', 'erbottlewat', True),\n",
    "        ('foo', 'bar', False),\n",
    "        ('foo', 'foofoo', False)\n",
    "    ]\n",
    "\n",
    "for [s1, s2, expected] in data:\n",
    "    actual = string_rotation(s1, s2)\n",
    "    print(actual)\n",
    "\n"
   ]
  },
  {
   "cell_type": "code",
   "execution_count": null,
   "metadata": {},
   "outputs": [],
   "source": []
  }
 ],
 "metadata": {
  "kernelspec": {
   "display_name": "Python 3",
   "language": "python",
   "name": "python3"
  },
  "language_info": {
   "codemirror_mode": {
    "name": "ipython",
    "version": 3
   },
   "file_extension": ".py",
   "mimetype": "text/x-python",
   "name": "python",
   "nbconvert_exporter": "python",
   "pygments_lexer": "ipython3",
   "version": "3.7.3"
  }
 },
 "nbformat": 4,
 "nbformat_minor": 2
}
