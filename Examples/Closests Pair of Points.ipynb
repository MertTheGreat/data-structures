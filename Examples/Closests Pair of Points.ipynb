{
 "cells": [
  {
   "cell_type": "markdown",
   "metadata": {},
   "source": [
    "# Finding Closests Pair of Points\n",
    "*Problem:* Given an array of points (tuples) in a cartisian coordinate plane find out which of the points are the closets pair."
   ]
  },
  {
   "cell_type": "markdown",
   "metadata": {},
   "source": [
    "## The algorithm\n",
    "\n",
    "1. Sort all points accorting to x coordinate\n",
    "2. Divide all points into subsets using middle index\n",
    "3. Find the minimum distance recursively in the two subsets, which are d1 and d2\n",
    "4. Get the minimum of these two distances\n",
    "5. In the middle line there might be points can be closer than min(d1,d2), so search for closer distance than min(d1,d2)\n",
    "    * You need to have a function for brute force for arrays less than 3 elements\n",
    "6. Return the minimum of distance from these there areas\n",
    "\n",
    "[Source](https://en.wikipedia.org/wiki/Closest_pair_of_points_problem)"
   ]
  },
  {
   "cell_type": "code",
   "execution_count": 96,
   "metadata": {},
   "outputs": [],
   "source": [
    "import math\n",
    "import sys"
   ]
  },
  {
   "cell_type": "code",
   "execution_count": 106,
   "metadata": {},
   "outputs": [],
   "source": [
    "def closets_points(arr):\n",
    "    # First step\n",
    "    length = len(arr)\n",
    "    if length == 2:\n",
    "        return arr\n",
    "    arr = merge_sorter(arr)\n",
    "    # Second step\n",
    "    middle = length // 2\n",
    "    # Third step\n",
    "    left_d = recurse_d(arr[:middle],left=True)\n",
    "    right_d = recurse_d(arr[middle:],left=False)\n",
    "    # Fourth step\n",
    "    min_of_l_and_r = min(left_d[0], right_d[0])\n",
    "    # Fifth step\n",
    "    middle_x = x_sum(arr)//length\n",
    "    middle_arr = []\n",
    "    for i in range(length):\n",
    "        if arr[i][0] >= (middle_x - min_of_l_and_r) and arr[i][0] <= (middle_x + min_of_l_and_r):\n",
    "            middle_arr.append(arr[i])\n",
    "    length_m = len(middle_arr)\n",
    "        # if points in the middle is less than 4 then use brute force approach\n",
    "    if length_m <=3:\n",
    "        left_d_m = brute_force_sol(middle_arr)\n",
    "        right_d_m = left_d_m\n",
    "    else:\n",
    "        middle_m = length_m // 2\n",
    "        left_d_m = recurse_d(middle_arr[:middle_m],left=True)\n",
    "        right_d_m = recurse_d(middle_arr[middle_m:],left=False)\n",
    "    \n",
    "    min_of_l_r_and_m = min(min_of_l_and_r, min(left_d_m[0], right_d_m[0]))\n",
    "    \n",
    "    # Get the right closets points\n",
    "    if min_of_l_r_and_m == left_d[0]:\n",
    "        result = left_d[1]\n",
    "    elif min_of_l_r_and_m == right_d[0]:\n",
    "        result = right_d[1]\n",
    "    elif min_of_l_r_and_m == left_d_m[0]:\n",
    "        result = left_d_m[1]\n",
    "    elif min_of_l_r_and_m == right_d_m[0]:\n",
    "        result = right_d_m[1]\n",
    "    \n",
    "    return min_of_l_r_and_m, result\n",
    "    \n",
    "    "
   ]
  },
  {
   "cell_type": "code",
   "execution_count": 107,
   "metadata": {},
   "outputs": [
    {
     "data": {
      "text/plain": [
       "(2.23606797749979, [(7, 9), (8, 7)])"
      ]
     },
     "execution_count": 107,
     "metadata": {},
     "output_type": "execute_result"
    }
   ],
   "source": [
    "arr = [(1, 2),(13,1),(14,4),(17,11),(18,14),(5,8),(7,9),(8,7),(10,10),(4,7)]\n",
    "closets_points(arr)"
   ]
  },
  {
   "cell_type": "code",
   "execution_count": 103,
   "metadata": {},
   "outputs": [],
   "source": [
    "\"\"\"\n",
    "Functions that is used for the algorithm\n",
    "\"\"\"\n",
    "def merge_sorter(arr):\n",
    "    length = len(arr)\n",
    "    if length == 1: return arr\n",
    "    mid_in = length // 2\n",
    "    left = arr[:mid_in]\n",
    "    right = arr[mid_in:]\n",
    "    \n",
    "    \n",
    "    return _merge_(\n",
    "        merge_sorter(left),\n",
    "        merge_sorter(right)\n",
    "    )\n",
    "\n",
    "def _merge_(left, right):\n",
    "    result = []\n",
    "    left_in = 0\n",
    "    right_in = 0\n",
    "    while left_in < len(left) and right_in < len(right):\n",
    "        if left[left_in] <= right[right_in]:\n",
    "            result.append(left[left_in])\n",
    "            left_in+=1\n",
    "        else:\n",
    "            result.append(right[right_in])\n",
    "            right_in+=1\n",
    "    result+=left[left_in:]+right[right_in:]\n",
    "    return result\n",
    "\n",
    "def x_sum(arr):\n",
    "    sum_x = 0\n",
    "    for i in range(len(arr)):\n",
    "        sum_x+=arr[i][0]\n",
    "    return sum_x\n",
    "\n",
    "def recurse_d(arr, left=True):\n",
    "    length = len(arr)\n",
    "    if length == 2:\n",
    "        return math.sqrt((arr[0][0] - arr[1][0]) ** 2 + (arr[0][1] - arr[1][1]) ** 2), arr\n",
    "    arr = merge_sorter(arr)\n",
    "    middle = length // 2\n",
    "    if left:\n",
    "        return recurse_d(arr[:middle])\n",
    "    else:\n",
    "        return recurse_d(arr[middle:],left=False)\n",
    "\n",
    "def eqlidian_distance(arr):\n",
    "    return math.sqrt((arr[0][0] - arr[1][0]) ** 2 + (arr[0][1] - arr[1][1]) ** 2)\n",
    "\n",
    "def brute_force_sol(arr):\n",
    "    min_d = sys.maxsize\n",
    "    point = [None]*2\n",
    "    for i in range(len(arr)):\n",
    "        for j in range(1,len(arr)):\n",
    "            if i != j:\n",
    "                try:\n",
    "                    if eqlidian_distance([arr[i],arr[j]]) < min_d:\n",
    "                        min_d = eqlidian_distance([arr[i],arr[j]])\n",
    "                        point[0], point[1] = arr[i],arr[j]\n",
    "                except:\n",
    "                    continue\n",
    "    return min_d, point\n",
    "                                      "
   ]
  },
  {
   "cell_type": "code",
   "execution_count": 104,
   "metadata": {},
   "outputs": [
    {
     "data": {
      "text/plain": [
       "(1.4142135623730951, [(1, 2), (2, 3)])"
      ]
     },
     "execution_count": 104,
     "metadata": {},
     "output_type": "execute_result"
    }
   ],
   "source": [
    "arr_t = [(1,2),(2,3),(4,5)]\n",
    "brute_force_sol(arr_t)"
   ]
  },
  {
   "cell_type": "code",
   "execution_count": null,
   "metadata": {},
   "outputs": [],
   "source": []
  }
 ],
 "metadata": {
  "kernelspec": {
   "display_name": "Python 3",
   "language": "python",
   "name": "python3"
  },
  "language_info": {
   "codemirror_mode": {
    "name": "ipython",
    "version": 3
   },
   "file_extension": ".py",
   "mimetype": "text/x-python",
   "name": "python",
   "nbconvert_exporter": "python",
   "pygments_lexer": "ipython3",
   "version": "3.7.3"
  }
 },
 "nbformat": 4,
 "nbformat_minor": 2
}
