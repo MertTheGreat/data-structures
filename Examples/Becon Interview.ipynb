{
 "cells": [
  {
   "cell_type": "markdown",
   "metadata": {},
   "source": [
    "## This question asked me during the screening interview at Beacon 21.01.2020\n",
    "\n",
    "_Question_ There two lists of words, write a function returns repeated words at same times:\n",
    "\n",
    "```Given:\n",
    "['word','this','another','word','this','this']\n",
    "\n",
    "['word','word','another','this']\n",
    "\n",
    "Return\n",
    "['word','another']\n",
    "```\n",
    "\n",
    "'this' did not returned because it appears 3 times on the first list and only 1 time on the second."
   ]
  },
  {
   "cell_type": "code",
   "execution_count": 9,
   "metadata": {},
   "outputs": [],
   "source": [
    "def repeatedWords(lst1, lst2):\n",
    "    words = {}\n",
    "    result = []\n",
    "    \n",
    "    for w in lst1:\n",
    "        words[w] = words.get(w,0) + 1\n",
    "    for w in lst2:\n",
    "        words[w] = words.get(w,0) - 1\n",
    "        \n",
    "    for k,v in words.items():\n",
    "        if v == 0:\n",
    "            result.append(k)\n",
    "    return result"
   ]
  },
  {
   "cell_type": "code",
   "execution_count": 10,
   "metadata": {},
   "outputs": [
    {
     "name": "stdout",
     "output_type": "stream",
     "text": [
      "<class 'dict'>\n"
     ]
    },
    {
     "data": {
      "text/plain": [
       "['word', 'another']"
      ]
     },
     "execution_count": 10,
     "metadata": {},
     "output_type": "execute_result"
    }
   ],
   "source": [
    "lst1 = ['word','this','another','word','this','this']\n",
    "lst2 = ['word','word','another','this']\n",
    "repeatedWords(lst1, lst2)"
   ]
  },
  {
   "cell_type": "code",
   "execution_count": null,
   "metadata": {},
   "outputs": [],
   "source": []
  }
 ],
 "metadata": {
  "kernelspec": {
   "display_name": "Python 3",
   "language": "python",
   "name": "python3"
  },
  "language_info": {
   "codemirror_mode": {
    "name": "ipython",
    "version": 3
   },
   "file_extension": ".py",
   "mimetype": "text/x-python",
   "name": "python",
   "nbconvert_exporter": "python",
   "pygments_lexer": "ipython3",
   "version": "3.7.3"
  }
 },
 "nbformat": 4,
 "nbformat_minor": 2
}
