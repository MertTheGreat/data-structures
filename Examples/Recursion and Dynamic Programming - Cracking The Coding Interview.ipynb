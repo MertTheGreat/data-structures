{
 "nbformat": 4,
 "nbformat_minor": 2,
 "metadata": {
  "language_info": {
   "name": "python",
   "codemirror_mode": {
    "name": "ipython",
    "version": 3
   },
   "version": "3.7.3-final"
  },
  "orig_nbformat": 2,
  "file_extension": ".py",
  "mimetype": "text/x-python",
  "name": "python",
  "npconvert_exporter": "python",
  "pygments_lexer": "ipython3",
  "version": 3,
  "kernelspec": {
   "name": "python3",
   "display_name": "Python 3"
  }
 },
 "cells": [
  {
   "cell_type": "markdown",
   "execution_count": null,
   "metadata": {},
   "outputs": [],
   "source": [
    "_Question 1:_ **Triple Step:** A child is running up a staircase with n steps and can hop either 1 step, 2 steps, or 3 steps at a time. Implement a method to count how many possible ways the child can run up the stairs.\n",
    "\n",
    "**Hints:** \n",
    "* Think this like a Fibonacci numbers with extra step"
   ]
  },
  {
   "cell_type": "code",
   "execution_count": 24,
   "metadata": {},
   "outputs": [],
   "source": [
    "def triple_step(number, f=1, s=1, t=2, counter=3):\n",
    "    if number == 0 or number == 1: return 1\n",
    "    if number == 2: return 2\n",
    "    temp = t\n",
    "    t += s+f\n",
    "    f, s = s, temp\n",
    "    if number == counter:\n",
    "        return t\n",
    "    counter += 1\n",
    "    return triple_step(number, f,s,t,counter)"
   ]
  },
  {
   "cell_type": "code",
   "execution_count": 26,
   "metadata": {},
   "outputs": [
    {
     "data": {
      "text/plain": "24"
     },
     "execution_count": 26,
     "metadata": {},
     "output_type": "execute_result"
    }
   ],
   "source": [
    "triple_step(6)"
   ]
  },
  {
   "cell_type": "code",
   "execution_count": 32,
   "metadata": {},
   "outputs": [
    {
     "name": "stdout",
     "output_type": "stream",
     "text": "0 steps: 1\n1 steps: 1\n2 steps: 2\n3 steps: 4\n4 steps: 7\n5 steps: 13\n6 steps: 24\n7 steps: 44\n8 steps: 81\n9 steps: 149\n10 steps: 274\n"
    }
   ],
   "source": [
    "for i in range(11):\n",
    "    print(str(i)+ \" steps: \"+str(triple_step(i)))"
   ]
  },
  {
   "cell_type": "markdown",
   "execution_count": null,
   "metadata": {},
   "outputs": [],
   "source": [
    "_Question 2:_ **Robot in a Grid:** Imagine a robot sitting on the upper left corner of grid with r rows and c columns. The robot can only move in two directions, right and down, but certain cells are \"off limits\" such that the robot cannot step on them. Design an algorithm to find a path for the robot from the top left to the bottom right."
   ]
  },
  {
   "cell_type": "code",
   "execution_count": 44,
   "metadata": {},
   "outputs": [],
   "source": [
    "def getPath(maze):\n",
    "    if maze == None or len(maze)==0:\n",
    "        return None\n",
    "    path = []\n",
    "    if isPath(maze, len(maze)-1, len(maze[0])-1, path):\n",
    "        return path\n",
    "    return None\n",
    "\n",
    "def isPath(maze, row, col, path):\n",
    "    if col < 0 or row < 0 or not maze[row][col]:\n",
    "        return False\n",
    "    isAtOrigin = (row==0) and (col==0)\n",
    "    if isAtOrigin or isPath(maze, row-1, col, path) or isPath(maze, row, col-1, path):\n",
    "        point=(row,col)\n",
    "        path.append(point)\n",
    "        return True\n",
    "    return False\n",
    "    "
   ]
  },
  {
   "cell_type": "code",
   "execution_count": 45,
   "metadata": {},
   "outputs": [
    {
     "data": {
      "text/plain": "[(0, 0), (0, 1), (0, 2), (1, 2), (2, 2), (3, 2), (3, 3)]"
     },
     "execution_count": 45,
     "metadata": {},
     "output_type": "execute_result"
    }
   ],
   "source": [
    "maze = [\n",
    "    [True ,True ,True ,True ],\n",
    "    [True ,True ,True ,True ],\n",
    "    [True ,True ,True ,True ],\n",
    "    [True ,True ,True ,True ]\n",
    "]\n",
    "maze2 = [\n",
    "    [True ,True ,True ,True ],\n",
    "    [True ,True ,True ,True ],\n",
    "    [True ,True ,True ,False],\n",
    "    [True ,True ,True ,True ]\n",
    "]\n",
    "getPath(maze2)"
   ]
  },
  {
   "cell_type": "markdown",
   "execution_count": null,
   "metadata": {},
   "outputs": [],
   "source": [
    "_Question3:_ **Magic Index:** A magic index in an array A\\[0\\.\\.n -1\\] is defined to be an index such that A\\[i\\] = i. Given a sorted array of distinct integers, write a method to find a magic index, if one exists, in array A."
   ]
  },
  {
   "cell_type": "code",
   "execution_count": 116,
   "metadata": {},
   "outputs": [],
   "source": [
    "def magicIndex(array, low=0, high=None):\n",
    "    if high==None:\n",
    "        high = len(array)-1 \n",
    "    mid = (low+high)//2\n",
    "    if array[mid]==mid:\n",
    "        return mid\n",
    "    if array[mid]<mid:\n",
    "        return magicIndex(array, mid+1,high)\n",
    "    else:\n",
    "        return magicIndex(array, low, mid-1)\n"
   ]
  },
  {
   "cell_type": "code",
   "execution_count": 132,
   "metadata": {},
   "outputs": [
    {
     "name": "stdout",
     "output_type": "stream",
     "text": "7\n11\n"
    }
   ],
   "source": [
    "array = [-40,-20,-1,1,2,3,5,7,9,12,13]\n",
    "array2 = [-10,-5,2,2,2,3,4,5,9,12,13]\n",
    "print(magicIndex(array))\n",
    "print(len(array2))\n"
   ]
  },
  {
   "cell_type": "markdown",
   "execution_count": null,
   "metadata": {},
   "outputs": [],
   "source": [
    "_This algorithm does not work on array2 because elements are not distinct_ so:"
   ]
  },
  {
   "cell_type": "code",
   "execution_count": 135,
   "metadata": {},
   "outputs": [],
   "source": [
    "def magicIndex2(arr,low=0, high=None):\n",
    "    if high==None:\n",
    "        high = len(arr)-1 \n",
    "    mid = (low+high)//2\n",
    "    if mid<0:\n",
    "        return None\n",
    "    if arr[mid]==mid:\n",
    "        return mid\n",
    "    # Search left\n",
    "    left = magicIndex2(arr, low,arr[mid]-1)\n",
    "    if left != None:\n",
    "        return left\n",
    "    # Search right\n",
    "    right = magicIndex2(arr, mid+1,high)\n",
    "    if right != None:\n",
    "        return right\n",
    "    "
   ]
  },
  {
   "cell_type": "code",
   "execution_count": 136,
   "metadata": {},
   "outputs": [
    {
     "data": {
      "text/plain": "2"
     },
     "execution_count": 136,
     "metadata": {},
     "output_type": "execute_result"
    }
   ],
   "source": [
    "magicIndex2(array2)"
   ]
  },
  {
   "cell_type": "markdown",
   "execution_count": 120,
   "metadata": {},
   "outputs": [
    {
     "data": {
      "text/plain": "1"
     },
     "execution_count": 120,
     "metadata": {},
     "output_type": "execute_result"
    }
   ],
   "source": [
    "_Question 4:_ **Power Set:** Write a method to return all subsets of a set."
   ]
  },
  {
   "cell_type": "code",
   "execution_count": 42,
   "metadata": {},
   "outputs": [],
   "source": [
    "def findSubsets(arr, index=0, subsets=None, end=None):\n",
    "    if subsets is None and end is None:\n",
    "        subsets, end = [[]], len(arr)-1\n",
    "    for i in range(len(subsets)):\n",
    "        temp = subsets[i][:]\n",
    "        temp.append(arr[index])\n",
    "        subsets.append(temp)\n",
    "    if index == end:\n",
    "        return subsets\n",
    "    return findSubsets(arr, index+1, subsets, end)"
   ]
  },
  {
   "cell_type": "code",
   "execution_count": 45,
   "metadata": {},
   "outputs": [
    {
     "data": {
      "text/plain": "[[],\n [1],\n [2],\n [1, 2],\n [3],\n [1, 3],\n [2, 3],\n [1, 2, 3],\n [4],\n [1, 4],\n [2, 4],\n [1, 2, 4],\n [3, 4],\n [1, 3, 4],\n [2, 3, 4],\n [1, 2, 3, 4]]"
     },
     "execution_count": 45,
     "metadata": {},
     "output_type": "execute_result"
    }
   ],
   "source": [
    "arr = [1,2,3,4]\n",
    "findSubsets(arr)"
   ]
  },
  {
   "cell_type": "code",
   "execution_count": null,
   "metadata": {},
   "outputs": [],
   "source": []
  }
 ]
}