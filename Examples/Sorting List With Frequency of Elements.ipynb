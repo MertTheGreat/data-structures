{
 "cells": [
  {
   "cell_type": "markdown",
   "metadata": {},
   "source": [
    "# Sorting Array With Frequency of Elements\n",
    "\n",
    "Unsorted array is given as a parameter, it is asked from you to sort array but sort the less repeted elements first. For instance:\n",
    "\n",
    "> Given Array:\n",
    "\n",
    "> [4,2,6,4,5,3,3,2,1,7,8,3]\n",
    "\n",
    "> Output:\n",
    "\n",
    "> [1,5,6,7,8,2,2,4,4,3,3,3]"
   ]
  },
  {
   "cell_type": "code",
   "execution_count": 19,
   "metadata": {},
   "outputs": [],
   "source": [
    "import collections\n",
    "\n",
    "arr = [4,2,4,6,4,5,3,4,3,5,2,1,2,4,7,8,3]"
   ]
  },
  {
   "cell_type": "markdown",
   "metadata": {},
   "source": [
    "## Solution 1"
   ]
  },
  {
   "cell_type": "code",
   "execution_count": 20,
   "metadata": {},
   "outputs": [
    {
     "data": {
      "text/plain": [
       "[1, 6, 7, 8, 5, 5, 2, 2, 2, 3, 3, 3, 4, 4, 4, 4, 4]"
      ]
     },
     "execution_count": 20,
     "metadata": {},
     "output_type": "execute_result"
    }
   ],
   "source": [
    "counts = collections.Counter(arr)\n",
    "counts[4]\n",
    "sorted(arr, key= lambda x:(counts[x],x))"
   ]
  },
  {
   "cell_type": "markdown",
   "metadata": {},
   "source": [
    "## Solution 2"
   ]
  },
  {
   "cell_type": "code",
   "execution_count": 40,
   "metadata": {},
   "outputs": [],
   "source": [
    "def frequency_sorter(arr):\n",
    "    result1 = {}\n",
    "    for i in arr:\n",
    "        if i not in result1:\n",
    "            result1[i] = 1\n",
    "        else:\n",
    "            result1[i] += 1\n",
    "\n",
    "    sorted_list = merge_sorter(list(result1.items()))\n",
    "    start = sorted_list[0][1]\n",
    "    end = sorted_list[len(sorted_list) - 1][1]\n",
    "\n",
    "    sorted = []\n",
    "    result = []\n",
    "\n",
    "    for i in range(len(sorted_list)):\n",
    "        if sorted_list[i][1] == start:\n",
    "            sorted.append(sorted_list[i])\n",
    "        else:\n",
    "            if len(sorted)==1:\n",
    "                result.extend(sorted)\n",
    "            else:\n",
    "                result.extend(merge_sorter(sorted, c=0))\n",
    "\n",
    "            sorted.clear()\n",
    "            start += 1\n",
    "            if sorted_list[i][1] == start:\n",
    "                sorted.append(sorted_list[i])\n",
    "            else:\n",
    "                while start == sorted_list[i][1]:\n",
    "                    start += 1\n",
    "                sorted.append(sorted_list[i])\n",
    "        if i == len(sorted_list)-1:\n",
    "            if len(sorted) == 1:\n",
    "                result.extend(sorted)\n",
    "            else:\n",
    "                result.extend(merge_sorter(sorted, c=0))\n",
    "    out = []\n",
    "    for item in result:\n",
    "        for i in range(item[1]):\n",
    "            out.append(item[0])\n",
    "\n",
    "\n",
    "    return out  "
   ]
  },
  {
   "cell_type": "code",
   "execution_count": 42,
   "metadata": {},
   "outputs": [
    {
     "data": {
      "text/plain": [
       "[1, 6, 7, 8, 5, 5, 2, 2, 2, 3, 3, 3, 4, 4, 4, 4, 4]"
      ]
     },
     "execution_count": 42,
     "metadata": {},
     "output_type": "execute_result"
    }
   ],
   "source": [
    "c = frequency_sorter(arr)\n",
    "c"
   ]
  },
  {
   "cell_type": "code",
   "execution_count": 41,
   "metadata": {},
   "outputs": [],
   "source": [
    "def merge_sorter(arr, c=1):\n",
    "    if len(arr) == 1: return arr\n",
    "    # split array into right and left\n",
    "    length = len(arr)\n",
    "    middle = (length) // 2\n",
    "    left = arr[:middle]\n",
    "    right = arr[middle:]\n",
    "\n",
    "    return _merge_(\n",
    "        merge_sorter(left,c),\n",
    "        merge_sorter(right,c),\n",
    "        c\n",
    "    )\n",
    "\n",
    "\n",
    "def _merge_(left_ar, right_ar, c=1):\n",
    "    result = []\n",
    "    left_index = 0\n",
    "    right_index = 0\n",
    "    while left_index < len(left_ar) and right_index < len(right_ar):\n",
    "        if left_ar[left_index][c] <= right_ar[right_index][c]:\n",
    "            result.append(left_ar[left_index])\n",
    "            left_index += 1\n",
    "        else:\n",
    "            result.append(right_ar[right_index])\n",
    "            right_index += 1\n",
    "\n",
    "    result += left_ar[left_index:] + right_ar[right_index:]\n",
    "    return result   "
   ]
  },
  {
   "cell_type": "code",
   "execution_count": null,
   "metadata": {},
   "outputs": [],
   "source": []
  }
 ],
 "metadata": {
  "kernelspec": {
   "display_name": "Python 3",
   "language": "python",
   "name": "python3"
  },
  "language_info": {
   "codemirror_mode": {
    "name": "ipython",
    "version": 3
   },
   "file_extension": ".py",
   "mimetype": "text/x-python",
   "name": "python",
   "nbconvert_exporter": "python",
   "pygments_lexer": "ipython3",
   "version": "3.7.3"
  }
 },
 "nbformat": 4,
 "nbformat_minor": 2
}
